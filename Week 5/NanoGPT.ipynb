{
 "cells": [
  {
   "cell_type": "code",
   "execution_count": 2,
   "id": "74108cf5",
   "metadata": {},
   "outputs": [],
   "source": [
    "with open('input.txt', 'r', encoding='utf-8') as f:\n",
    "    text = f.read()"
   ]
  },
  {
   "cell_type": "code",
   "execution_count": 3,
   "id": "dc5a67ec",
   "metadata": {},
   "outputs": [
    {
     "name": "stdout",
     "output_type": "stream",
     "text": [
      "length of dataset in characters:  1115394\n"
     ]
    }
   ],
   "source": [
    "print(\"length of dataset in characters: \", len(text))"
   ]
  },
  {
   "cell_type": "code",
   "execution_count": 4,
   "id": "3c45b68d",
   "metadata": {},
   "outputs": [
    {
     "name": "stdout",
     "output_type": "stream",
     "text": [
      "First Citizen:\n",
      "Before we proceed any further, hear me speak.\n",
      "\n",
      "All:\n",
      "Speak, speak.\n",
      "\n",
      "First Citizen:\n",
      "You are all resolved rather to die than to famish?\n",
      "\n",
      "All:\n",
      "Resolved. resolved.\n",
      "\n",
      "First Citizen:\n",
      "First, you know Caius Marcius is chief enemy to the people.\n",
      "\n",
      "All:\n",
      "We know't, we know't.\n",
      "\n",
      "First Citizen:\n",
      "Let us kill him, and we'll have corn at our own price.\n",
      "Is't a verdict?\n",
      "\n",
      "All:\n",
      "No more talking on't; let it be done: away, away!\n",
      "\n",
      "Second Citizen:\n",
      "One word, good citizens.\n",
      "\n",
      "First Citizen:\n",
      "We are accounted poor citizens, the patricians good.\n",
      "What authority surfeits on would relieve us: if they\n",
      "would yield us but the superfluity, while it were\n",
      "wholesome, we might guess they relieved us humanely;\n",
      "but they think we are too dear: the leanness that\n",
      "afflicts us, the object of our misery, is as an\n",
      "inventory to particularise their abundance; our\n",
      "sufferance is a gain to them Let us revenge this with\n",
      "our pikes, ere we become rakes: for the gods know I\n",
      "speak this in hunger for bread, not in thirst for revenge.\n",
      "\n",
      "\n"
     ]
    }
   ],
   "source": [
    "print(text[:1000])"
   ]
  },
  {
   "cell_type": "markdown",
   "id": "02df70ab",
   "metadata": {},
   "source": [
    "Character level language model"
   ]
  },
  {
   "cell_type": "code",
   "execution_count": 5,
   "id": "2c41102c",
   "metadata": {},
   "outputs": [
    {
     "name": "stdout",
     "output_type": "stream",
     "text": [
      "\n",
      " !$&',-.3:;?ABCDEFGHIJKLMNOPQRSTUVWXYZabcdefghijklmnopqrstuvwxyz\n",
      "65\n"
     ]
    }
   ],
   "source": [
    "chars = sorted(list(set(text)))\n",
    "vocab_size = len(chars)\n",
    "print(''.join(chars))\n",
    "print(vocab_size) "
   ]
  },
  {
   "cell_type": "code",
   "execution_count": 6,
   "id": "f4a92cd8",
   "metadata": {},
   "outputs": [
    {
     "name": "stdout",
     "output_type": "stream",
     "text": [
      "[46, 47, 47, 1, 58, 46, 43, 56, 43]\n",
      "hii there\n"
     ]
    }
   ],
   "source": [
    "# Since our language model is character level, our tokens will be individual characters\n",
    "\n",
    "stoi = {ch:i for i, ch in enumerate(chars)}\n",
    "itos = {i:ch for i, ch in enumerate(chars)}\n",
    "encode = lambda s: [stoi[c] for c in s] # takes a string and outputs a list of integers\n",
    "decode = lambda l: ''.join([itos[i] for i in l]) # takes a list of integers and outputs a string\n",
    "\n",
    "print(encode(\"hii there\"))\n",
    "print(decode(encode(\"hii there\")))"
   ]
  },
  {
   "cell_type": "code",
   "execution_count": 7,
   "id": "ec825baa",
   "metadata": {},
   "outputs": [],
   "source": [
    "# Google - SentencePiece\n",
    "# OpenAI - tiktoken (BPE - bi pair encoding tokeniser)"
   ]
  },
  {
   "cell_type": "code",
   "execution_count": 8,
   "id": "107d1c76",
   "metadata": {},
   "outputs": [
    {
     "name": "stdout",
     "output_type": "stream",
     "text": [
      "Collecting git+https://github.com/openai/whisper.git"
     ]
    },
    {
     "name": "stderr",
     "output_type": "stream",
     "text": [
      "  Running command git clone --filter=blob:none --quiet https://github.com/openai/whisper.git 'C:\\Users\\chinn\\AppData\\Local\\Temp\\pip-req-build-qwzidkqe'\n",
      "\n",
      "[notice] A new release of pip is available: 23.1.2 -> 24.1.1\n",
      "[notice] To update, run: python.exe -m pip install --upgrade pip\n"
     ]
    },
    {
     "name": "stdout",
     "output_type": "stream",
     "text": [
      "\n",
      "  Cloning https://github.com/openai/whisper.git to c:\\users\\chinn\\appdata\\local\\temp\\pip-req-build-qwzidkqe\n",
      "  Resolved https://github.com/openai/whisper.git to commit ba3f3cd54b0e5b8ce1ab3de13e32122d0d5f98ab\n",
      "  Installing build dependencies: started\n",
      "  Installing build dependencies: finished with status 'done'\n",
      "  Getting requirements to build wheel: started\n",
      "  Getting requirements to build wheel: finished with status 'done'\n",
      "  Preparing metadata (pyproject.toml): started\n",
      "  Preparing metadata (pyproject.toml): finished with status 'done'\n",
      "Collecting numba (from openai-whisper==20231117)\n",
      "  Downloading numba-0.60.0-cp310-cp310-win_amd64.whl (2.7 MB)\n",
      "                                              0.0/2.7 MB ? eta -:--:--\n",
      "     ---                                      0.2/2.7 MB 4.6 MB/s eta 0:00:01\n",
      "     ----                                     0.3/2.7 MB 4.1 MB/s eta 0:00:01\n",
      "     -----------                              0.8/2.7 MB 6.1 MB/s eta 0:00:01\n",
      "     --------------                           1.0/2.7 MB 6.1 MB/s eta 0:00:01\n",
      "     ------------------                       1.3/2.7 MB 5.3 MB/s eta 0:00:01\n",
      "     ------------------------                 1.6/2.7 MB 6.1 MB/s eta 0:00:01\n",
      "     ------------------------                 1.6/2.7 MB 5.8 MB/s eta 0:00:01\n",
      "     --------------------------               1.8/2.7 MB 4.9 MB/s eta 0:00:01\n",
      "     ----------------------------             1.9/2.7 MB 5.0 MB/s eta 0:00:01\n",
      "     --------------------------------         2.2/2.7 MB 4.8 MB/s eta 0:00:01\n",
      "     --------------------------------------   2.6/2.7 MB 5.1 MB/s eta 0:00:01\n",
      "     ---------------------------------------  2.7/2.7 MB 4.8 MB/s eta 0:00:01\n",
      "     ---------------------------------------- 2.7/2.7 MB 4.5 MB/s eta 0:00:00\n",
      "Requirement already satisfied: numpy in c:\\users\\chinn\\appdata\\local\\programs\\python\\python310\\lib\\site-packages (from openai-whisper==20231117) (1.23.5)\n",
      "Requirement already satisfied: torch in c:\\users\\chinn\\appdata\\local\\programs\\python\\python310\\lib\\site-packages (from openai-whisper==20231117) (2.3.0)\n",
      "Collecting tqdm (from openai-whisper==20231117)\n",
      "  Downloading tqdm-4.66.4-py3-none-any.whl (78 kB)\n",
      "                                              0.0/78.3 kB ? eta -:--:--\n",
      "     ---------------                          30.7/78.3 kB ? eta -:--:--\n",
      "     -------------------------------------- 78.3/78.3 kB 872.2 kB/s eta 0:00:00\n",
      "Requirement already satisfied: more-itertools in c:\\users\\chinn\\appdata\\local\\programs\\python\\python310\\lib\\site-packages (from openai-whisper==20231117) (9.1.0)\n",
      "Collecting tiktoken (from openai-whisper==20231117)\n",
      "  Downloading tiktoken-0.7.0-cp310-cp310-win_amd64.whl (798 kB)\n",
      "                                              0.0/798.9 kB ? eta -:--:--\n",
      "     ------------                           266.2/798.9 kB 8.3 MB/s eta 0:00:01\n",
      "     -----------------                      368.6/798.9 kB 4.6 MB/s eta 0:00:01\n",
      "     --------------------------------       675.8/798.9 kB 4.8 MB/s eta 0:00:01\n",
      "     -------------------------------------  778.2/798.9 kB 4.9 MB/s eta 0:00:01\n",
      "     -------------------------------------- 798.9/798.9 kB 3.9 MB/s eta 0:00:00\n",
      "Collecting llvmlite<0.44,>=0.43.0dev0 (from numba->openai-whisper==20231117)\n",
      "  Downloading llvmlite-0.43.0-cp310-cp310-win_amd64.whl (28.1 MB)\n",
      "                                              0.0/28.1 MB ? eta -:--:--\n",
      "                                              0.2/28.1 MB 13.0 MB/s eta 0:00:03\n",
      "                                              0.5/28.1 MB 5.6 MB/s eta 0:00:05\n",
      "     -                                        0.8/28.1 MB 6.1 MB/s eta 0:00:05\n",
      "     -                                        0.9/28.1 MB 5.4 MB/s eta 0:00:06\n",
      "     -                                        1.2/28.1 MB 5.2 MB/s eta 0:00:06\n",
      "     -                                        1.4/28.1 MB 5.4 MB/s eta 0:00:05\n",
      "     --                                       1.6/28.1 MB 4.9 MB/s eta 0:00:06\n",
      "     --                                       1.9/28.1 MB 5.2 MB/s eta 0:00:06\n",
      "     --                                       2.1/28.1 MB 5.1 MB/s eta 0:00:06\n",
      "     ---                                      2.4/28.1 MB 5.2 MB/s eta 0:00:05\n",
      "     ---                                      2.6/28.1 MB 5.4 MB/s eta 0:00:05\n",
      "     ---                                      2.7/28.1 MB 4.8 MB/s eta 0:00:06\n",
      "     ----                                     3.0/28.1 MB 5.0 MB/s eta 0:00:06\n",
      "     ----                                     3.1/28.1 MB 4.8 MB/s eta 0:00:06\n",
      "     ----                                     3.4/28.1 MB 4.9 MB/s eta 0:00:06\n",
      "     -----                                    3.5/28.1 MB 4.9 MB/s eta 0:00:05\n",
      "     -----                                    3.8/28.1 MB 4.8 MB/s eta 0:00:06\n",
      "     -----                                    4.1/28.1 MB 4.8 MB/s eta 0:00:05\n",
      "     ------                                   4.3/28.1 MB 4.9 MB/s eta 0:00:05\n",
      "     ------                                   4.6/28.1 MB 4.8 MB/s eta 0:00:05\n",
      "     ------                                   4.7/28.1 MB 4.9 MB/s eta 0:00:05\n",
      "     -------                                  5.0/28.1 MB 4.8 MB/s eta 0:00:05\n",
      "     -------                                  5.3/28.1 MB 4.9 MB/s eta 0:00:05\n",
      "     -------                                  5.3/28.1 MB 4.9 MB/s eta 0:00:05\n",
      "     -------                                  5.5/28.1 MB 4.7 MB/s eta 0:00:05\n",
      "     --------                                 5.7/28.1 MB 4.7 MB/s eta 0:00:05\n",
      "     --------                                 5.9/28.1 MB 4.6 MB/s eta 0:00:05\n",
      "     --------                                 6.1/28.1 MB 4.7 MB/s eta 0:00:05\n",
      "     --------                                 6.2/28.1 MB 4.6 MB/s eta 0:00:05\n",
      "     ---------                                6.6/28.1 MB 4.6 MB/s eta 0:00:05\n",
      "     ---------                                6.7/28.1 MB 4.6 MB/s eta 0:00:05\n",
      "     ---------                                7.0/28.1 MB 4.6 MB/s eta 0:00:05\n",
      "     ----------                               7.2/28.1 MB 4.7 MB/s eta 0:00:05\n",
      "     ----------                               7.4/28.1 MB 4.6 MB/s eta 0:00:05\n",
      "     ----------                               7.6/28.1 MB 4.6 MB/s eta 0:00:05\n",
      "     -----------                              7.8/28.1 MB 4.7 MB/s eta 0:00:05\n",
      "     -----------                              7.9/28.1 MB 4.6 MB/s eta 0:00:05\n",
      "     -----------                              8.2/28.1 MB 4.6 MB/s eta 0:00:05\n",
      "     -----------                              8.2/28.1 MB 4.5 MB/s eta 0:00:05\n",
      "     -----------                              8.4/28.1 MB 4.5 MB/s eta 0:00:05\n",
      "     ------------                             8.6/28.1 MB 4.5 MB/s eta 0:00:05\n",
      "     ------------                             8.8/28.1 MB 4.5 MB/s eta 0:00:05\n",
      "     ------------                             9.1/28.1 MB 4.5 MB/s eta 0:00:05\n",
      "     -------------                            9.3/28.1 MB 4.5 MB/s eta 0:00:05\n",
      "     -------------                            9.6/28.1 MB 4.5 MB/s eta 0:00:05\n",
      "     -------------                            9.7/28.1 MB 4.5 MB/s eta 0:00:05\n",
      "     -------------                            9.8/28.1 MB 4.4 MB/s eta 0:00:05\n",
      "     --------------                           10.0/28.1 MB 4.4 MB/s eta 0:00:05\n",
      "     --------------                           10.2/28.1 MB 4.4 MB/s eta 0:00:05\n",
      "     --------------                           10.5/28.1 MB 4.4 MB/s eta 0:00:04\n",
      "     ---------------                          10.7/28.1 MB 4.4 MB/s eta 0:00:04\n",
      "     ---------------                          10.9/28.1 MB 4.4 MB/s eta 0:00:04\n",
      "     ---------------                          11.0/28.1 MB 4.4 MB/s eta 0:00:04\n",
      "     ---------------                          11.1/28.1 MB 4.3 MB/s eta 0:00:04\n",
      "     ----------------                         11.3/28.1 MB 4.3 MB/s eta 0:00:04\n",
      "     ----------------                         11.4/28.1 MB 4.3 MB/s eta 0:00:04\n",
      "     ----------------                         11.6/28.1 MB 4.3 MB/s eta 0:00:04\n",
      "     ----------------                         11.7/28.1 MB 4.2 MB/s eta 0:00:04\n",
      "     ----------------                         11.8/28.1 MB 4.2 MB/s eta 0:00:04\n",
      "     -----------------                        12.1/28.1 MB 4.1 MB/s eta 0:00:04\n",
      "     -----------------                        12.2/28.1 MB 4.1 MB/s eta 0:00:04\n",
      "     -----------------                        12.5/28.1 MB 4.1 MB/s eta 0:00:04\n",
      "     ------------------                       12.7/28.1 MB 4.1 MB/s eta 0:00:04\n",
      "     ------------------                       12.9/28.1 MB 4.1 MB/s eta 0:00:04\n",
      "     ------------------                       13.3/28.1 MB 4.2 MB/s eta 0:00:04\n",
      "     ------------------                       13.3/28.1 MB 4.2 MB/s eta 0:00:04\n",
      "     ------------------                       13.3/28.1 MB 4.2 MB/s eta 0:00:04\n",
      "     -------------------                      13.5/28.1 MB 4.0 MB/s eta 0:00:04\n",
      "     -------------------                      13.6/28.1 MB 4.0 MB/s eta 0:00:04\n",
      "     -------------------                      13.9/28.1 MB 4.0 MB/s eta 0:00:04\n",
      "     -------------------                      14.0/28.1 MB 4.0 MB/s eta 0:00:04\n",
      "     --------------------                     14.3/28.1 MB 4.0 MB/s eta 0:00:04\n",
      "     --------------------                     14.5/28.1 MB 4.0 MB/s eta 0:00:04\n",
      "     --------------------                     14.6/28.1 MB 4.0 MB/s eta 0:00:04\n",
      "     ---------------------                    15.0/28.1 MB 4.0 MB/s eta 0:00:04\n",
      "     ---------------------                    15.1/28.1 MB 4.0 MB/s eta 0:00:04\n",
      "     ---------------------                    15.3/28.1 MB 4.0 MB/s eta 0:00:04\n",
      "     ----------------------                   15.5/28.1 MB 3.9 MB/s eta 0:00:04\n",
      "     ----------------------                   15.5/28.1 MB 3.9 MB/s eta 0:00:04\n",
      "     ----------------------                   15.6/28.1 MB 3.9 MB/s eta 0:00:04\n",
      "     ----------------------                   15.7/28.1 MB 3.9 MB/s eta 0:00:04\n",
      "     ----------------------                   15.9/28.1 MB 3.8 MB/s eta 0:00:04\n",
      "     ----------------------                   16.1/28.1 MB 3.9 MB/s eta 0:00:04\n",
      "     -----------------------                  16.3/28.1 MB 3.8 MB/s eta 0:00:04\n",
      "     -----------------------                  16.6/28.1 MB 3.9 MB/s eta 0:00:03\n",
      "     -----------------------                  16.7/28.1 MB 3.9 MB/s eta 0:00:03\n",
      "     ------------------------                 17.0/28.1 MB 3.9 MB/s eta 0:00:03\n",
      "     ------------------------                 17.2/28.1 MB 3.9 MB/s eta 0:00:03\n",
      "     ------------------------                 17.4/28.1 MB 3.8 MB/s eta 0:00:03\n",
      "     -------------------------                17.7/28.1 MB 3.9 MB/s eta 0:00:03\n",
      "     -------------------------                17.8/28.1 MB 3.9 MB/s eta 0:00:03\n",
      "     -------------------------                18.1/28.1 MB 3.9 MB/s eta 0:00:03\n",
      "     --------------------------               18.3/28.1 MB 3.9 MB/s eta 0:00:03\n",
      "     --------------------------               18.4/28.1 MB 3.9 MB/s eta 0:00:03\n",
      "     --------------------------               18.7/28.1 MB 3.9 MB/s eta 0:00:03\n",
      "     --------------------------               18.7/28.1 MB 3.9 MB/s eta 0:00:03\n",
      "     --------------------------               18.7/28.1 MB 3.9 MB/s eta 0:00:03\n",
      "     --------------------------               18.8/28.1 MB 3.8 MB/s eta 0:00:03\n",
      "     ---------------------------              19.0/28.1 MB 3.8 MB/s eta 0:00:03\n",
      "     ---------------------------              19.1/28.1 MB 3.8 MB/s eta 0:00:03\n",
      "     ---------------------------              19.1/28.1 MB 3.7 MB/s eta 0:00:03\n",
      "     ---------------------------              19.2/28.1 MB 3.7 MB/s eta 0:00:03\n",
      "     ---------------------------              19.5/28.1 MB 3.7 MB/s eta 0:00:03\n",
      "     ---------------------------              19.6/28.1 MB 3.7 MB/s eta 0:00:03\n",
      "     ----------------------------             19.9/28.1 MB 3.6 MB/s eta 0:00:03\n",
      "     ----------------------------             20.0/28.1 MB 3.7 MB/s eta 0:00:03\n",
      "     ----------------------------             20.2/28.1 MB 3.6 MB/s eta 0:00:03\n",
      "     ----------------------------             20.3/28.1 MB 3.7 MB/s eta 0:00:03\n",
      "     -----------------------------            20.4/28.1 MB 3.6 MB/s eta 0:00:03\n",
      "     -----------------------------            20.7/28.1 MB 3.6 MB/s eta 0:00:03\n",
      "     -----------------------------            20.9/28.1 MB 3.6 MB/s eta 0:00:03\n",
      "     ------------------------------           21.1/28.1 MB 3.6 MB/s eta 0:00:02\n",
      "     ------------------------------           21.3/28.1 MB 3.6 MB/s eta 0:00:02\n",
      "     ------------------------------           21.5/28.1 MB 3.7 MB/s eta 0:00:02\n",
      "     -------------------------------          21.8/28.1 MB 3.7 MB/s eta 0:00:02\n",
      "     -------------------------------          22.0/28.1 MB 3.8 MB/s eta 0:00:02\n",
      "     -------------------------------          22.3/28.1 MB 3.8 MB/s eta 0:00:02\n",
      "     -------------------------------          22.5/28.1 MB 3.8 MB/s eta 0:00:02\n",
      "     --------------------------------         22.6/28.1 MB 3.8 MB/s eta 0:00:02\n",
      "     --------------------------------         22.8/28.1 MB 3.8 MB/s eta 0:00:02\n",
      "     --------------------------------         22.9/28.1 MB 3.7 MB/s eta 0:00:02\n",
      "     --------------------------------         23.1/28.1 MB 3.7 MB/s eta 0:00:02\n",
      "     ---------------------------------        23.3/28.1 MB 3.7 MB/s eta 0:00:02\n",
      "     ---------------------------------        23.5/28.1 MB 3.7 MB/s eta 0:00:02\n",
      "     ---------------------------------        23.7/28.1 MB 3.8 MB/s eta 0:00:02\n",
      "     ---------------------------------        23.9/28.1 MB 3.8 MB/s eta 0:00:02\n",
      "     ----------------------------------       24.1/28.1 MB 3.8 MB/s eta 0:00:02\n",
      "     ----------------------------------       24.3/28.1 MB 3.9 MB/s eta 0:00:01\n",
      "     ----------------------------------       24.5/28.1 MB 3.8 MB/s eta 0:00:01\n",
      "     -----------------------------------      24.8/28.1 MB 3.9 MB/s eta 0:00:01\n",
      "     -----------------------------------      24.9/28.1 MB 3.8 MB/s eta 0:00:01\n",
      "     -----------------------------------      25.2/28.1 MB 3.9 MB/s eta 0:00:01\n",
      "     ------------------------------------     25.4/28.1 MB 3.9 MB/s eta 0:00:01\n",
      "     ------------------------------------     25.5/28.1 MB 3.8 MB/s eta 0:00:01\n",
      "     ------------------------------------     25.7/28.1 MB 3.8 MB/s eta 0:00:01\n",
      "     ------------------------------------     25.9/28.1 MB 3.9 MB/s eta 0:00:01\n",
      "     -------------------------------------    26.1/28.1 MB 4.0 MB/s eta 0:00:01\n",
      "     -------------------------------------    26.4/28.1 MB 4.0 MB/s eta 0:00:01\n",
      "     -------------------------------------    26.6/28.1 MB 4.0 MB/s eta 0:00:01\n",
      "     --------------------------------------   26.8/28.1 MB 4.0 MB/s eta 0:00:01\n",
      "     --------------------------------------   27.0/28.1 MB 3.9 MB/s eta 0:00:01\n",
      "     --------------------------------------   27.2/28.1 MB 3.9 MB/s eta 0:00:01\n",
      "     ---------------------------------------  27.4/28.1 MB 3.9 MB/s eta 0:00:01\n",
      "     ---------------------------------------  27.5/28.1 MB 3.9 MB/s eta 0:00:01\n",
      "     ---------------------------------------  27.7/28.1 MB 3.9 MB/s eta 0:00:01\n",
      "     ---------------------------------------  27.8/28.1 MB 3.9 MB/s eta 0:00:01\n",
      "     ---------------------------------------  28.0/28.1 MB 3.9 MB/s eta 0:00:01\n",
      "     ---------------------------------------  28.1/28.1 MB 3.8 MB/s eta 0:00:01\n",
      "     ---------------------------------------  28.1/28.1 MB 3.8 MB/s eta 0:00:01\n",
      "     ---------------------------------------  28.1/28.1 MB 3.8 MB/s eta 0:00:01\n",
      "     ---------------------------------------- 28.1/28.1 MB 3.6 MB/s eta 0:00:00\n",
      "Collecting regex>=2022.1.18 (from tiktoken->openai-whisper==20231117)\n",
      "  Downloading regex-2024.5.15-cp310-cp310-win_amd64.whl (268 kB)\n",
      "                                              0.0/269.0 kB ? eta -:--:--\n",
      "     -------------------------------------  266.2/269.0 kB 8.0 MB/s eta 0:00:01\n",
      "     -------------------------------------- 269.0/269.0 kB 4.1 MB/s eta 0:00:00\n",
      "Requirement already satisfied: requests>=2.26.0 in c:\\users\\chinn\\appdata\\local\\programs\\python\\python310\\lib\\site-packages (from tiktoken->openai-whisper==20231117) (2.31.0)\n",
      "Requirement already satisfied: filelock in c:\\users\\chinn\\appdata\\local\\programs\\python\\python310\\lib\\site-packages (from torch->openai-whisper==20231117) (3.12.2)\n",
      "Requirement already satisfied: typing-extensions>=4.8.0 in c:\\users\\chinn\\appdata\\local\\programs\\python\\python310\\lib\\site-packages (from torch->openai-whisper==20231117) (4.12.0)\n",
      "Requirement already satisfied: sympy in c:\\users\\chinn\\appdata\\local\\programs\\python\\python310\\lib\\site-packages (from torch->openai-whisper==20231117) (1.12.1)\n",
      "Requirement already satisfied: networkx in c:\\users\\chinn\\appdata\\local\\programs\\python\\python310\\lib\\site-packages (from torch->openai-whisper==20231117) (3.1)\n",
      "Requirement already satisfied: jinja2 in c:\\users\\chinn\\appdata\\local\\programs\\python\\python310\\lib\\site-packages (from torch->openai-whisper==20231117) (3.1.2)\n",
      "Requirement already satisfied: fsspec in c:\\users\\chinn\\appdata\\local\\programs\\python\\python310\\lib\\site-packages (from torch->openai-whisper==20231117) (2024.5.0)\n",
      "Requirement already satisfied: mkl<=2021.4.0,>=2021.1.1 in c:\\users\\chinn\\appdata\\local\\programs\\python\\python310\\lib\\site-packages (from torch->openai-whisper==20231117) (2021.4.0)\n",
      "Requirement already satisfied: colorama in c:\\users\\chinn\\appdata\\local\\programs\\python\\python310\\lib\\site-packages (from tqdm->openai-whisper==20231117) (0.4.6)\n",
      "Requirement already satisfied: intel-openmp==2021.* in c:\\users\\chinn\\appdata\\local\\programs\\python\\python310\\lib\\site-packages (from mkl<=2021.4.0,>=2021.1.1->torch->openai-whisper==20231117) (2021.4.0)\n",
      "Requirement already satisfied: tbb==2021.* in c:\\users\\chinn\\appdata\\local\\programs\\python\\python310\\lib\\site-packages (from mkl<=2021.4.0,>=2021.1.1->torch->openai-whisper==20231117) (2021.12.0)\n",
      "Requirement already satisfied: charset-normalizer<4,>=2 in c:\\users\\chinn\\appdata\\local\\programs\\python\\python310\\lib\\site-packages (from requests>=2.26.0->tiktoken->openai-whisper==20231117) (3.1.0)\n",
      "Requirement already satisfied: idna<4,>=2.5 in c:\\users\\chinn\\appdata\\local\\programs\\python\\python310\\lib\\site-packages (from requests>=2.26.0->tiktoken->openai-whisper==20231117) (3.4)\n",
      "Requirement already satisfied: urllib3<3,>=1.21.1 in c:\\users\\chinn\\appdata\\local\\programs\\python\\python310\\lib\\site-packages (from requests>=2.26.0->tiktoken->openai-whisper==20231117) (1.26.16)\n",
      "Requirement already satisfied: certifi>=2017.4.17 in c:\\users\\chinn\\appdata\\local\\programs\\python\\python310\\lib\\site-packages (from requests>=2.26.0->tiktoken->openai-whisper==20231117) (2023.5.7)\n",
      "Requirement already satisfied: MarkupSafe>=2.0 in c:\\users\\chinn\\appdata\\local\\programs\\python\\python310\\lib\\site-packages (from jinja2->torch->openai-whisper==20231117) (2.1.3)\n",
      "Requirement already satisfied: mpmath<1.4.0,>=1.1.0 in c:\\users\\chinn\\appdata\\local\\programs\\python\\python310\\lib\\site-packages (from sympy->torch->openai-whisper==20231117) (1.3.0)\n",
      "Building wheels for collected packages: openai-whisper\n",
      "  Building wheel for openai-whisper (pyproject.toml): started\n",
      "  Building wheel for openai-whisper (pyproject.toml): finished with status 'done'\n",
      "  Created wheel for openai-whisper: filename=openai_whisper-20231117-py3-none-any.whl size=812158 sha256=e78648fb63d8bba37f10dc87e790197d8adeba62d8bff1565289b6ad0d645942\n",
      "  Stored in directory: C:\\Users\\chinn\\AppData\\Local\\Temp\\pip-ephem-wheel-cache-sojvlqjb\\wheels\\8b\\6c\\d0\\622666868c179f156cf595c8b6f06f88bc5d80c4b31dccaa03\n",
      "Successfully built openai-whisper\n",
      "Installing collected packages: tqdm, regex, llvmlite, tiktoken, numba, openai-whisper\n",
      "Successfully installed llvmlite-0.43.0 numba-0.60.0 openai-whisper-20231117 regex-2024.5.15 tiktoken-0.7.0 tqdm-4.66.4\n"
     ]
    }
   ],
   "source": [
    "!pip install git+https://github.com/openai/whisper.git"
   ]
  },
  {
   "cell_type": "code",
   "execution_count": null,
   "id": "515f39e2",
   "metadata": {},
   "outputs": [
    {
     "data": {
      "text/plain": [
       "50257"
      ]
     },
     "execution_count": 9,
     "metadata": {},
     "output_type": "execute_result"
    }
   ],
   "source": [
    "import tiktoken\n",
    "enc = tiktoken.get_encoding('gpt2')\n",
    "enc.n_vocab"
   ]
  },
  {
   "cell_type": "code",
   "execution_count": 10,
   "id": "892e35e8",
   "metadata": {},
   "outputs": [
    {
     "data": {
      "text/plain": [
       "[71, 4178, 612]"
      ]
     },
     "execution_count": 10,
     "metadata": {},
     "output_type": "execute_result"
    }
   ],
   "source": [
    "enc.encode(\"hii there\")"
   ]
  },
  {
   "cell_type": "code",
   "execution_count": 12,
   "id": "7e6e24c6",
   "metadata": {},
   "outputs": [
    {
     "data": {
      "text/plain": [
       "'hii there'"
      ]
     },
     "execution_count": 12,
     "metadata": {},
     "output_type": "execute_result"
    }
   ],
   "source": [
    "enc.decode([71, 4178, 612])"
   ]
  },
  {
   "cell_type": "code",
   "execution_count": 8,
   "id": "827ab5d4",
   "metadata": {},
   "outputs": [
    {
     "name": "stdout",
     "output_type": "stream",
     "text": [
      "torch.Size([1115394]) torch.int64\n",
      "tensor([18, 47, 56, 57, 58,  1, 15, 47, 58, 47, 64, 43, 52, 10,  0, 14, 43, 44,\n",
      "        53, 56, 43,  1, 61, 43,  1, 54, 56, 53, 41, 43, 43, 42,  1, 39, 52, 63,\n",
      "         1, 44, 59, 56, 58, 46, 43, 56,  6,  1, 46, 43, 39, 56,  1, 51, 43,  1,\n",
      "        57, 54, 43, 39, 49,  8,  0,  0, 13, 50, 50, 10,  0, 31, 54, 43, 39, 49,\n",
      "         6,  1, 57, 54, 43, 39, 49,  8,  0,  0, 18, 47, 56, 57, 58,  1, 15, 47,\n",
      "        58, 47, 64, 43, 52, 10,  0, 37, 53, 59,  1, 39, 56, 43,  1, 39, 50, 50,\n",
      "         1, 56, 43, 57, 53, 50, 60, 43, 42,  1, 56, 39, 58, 46, 43, 56,  1, 58,\n",
      "        53,  1, 42, 47, 43,  1, 58, 46, 39, 52,  1, 58, 53,  1, 44, 39, 51, 47,\n",
      "        57, 46, 12,  0,  0, 13, 50, 50, 10,  0, 30, 43, 57, 53, 50, 60, 43, 42,\n",
      "         8,  1, 56, 43, 57, 53, 50, 60, 43, 42,  8,  0,  0, 18, 47, 56, 57, 58,\n",
      "         1, 15, 47, 58, 47, 64, 43, 52, 10,  0, 18, 47, 56, 57, 58,  6,  1, 63,\n",
      "        53, 59,  1, 49, 52, 53, 61,  1, 15, 39, 47, 59, 57,  1, 25, 39, 56, 41,\n",
      "        47, 59, 57,  1, 47, 57,  1, 41, 46, 47, 43, 44,  1, 43, 52, 43, 51, 63,\n",
      "         1, 58, 53,  1, 58, 46, 43,  1, 54, 43, 53, 54, 50, 43,  8,  0,  0, 13,\n",
      "        50, 50, 10,  0, 35, 43,  1, 49, 52, 53, 61,  5, 58,  6,  1, 61, 43,  1,\n",
      "        49, 52, 53, 61,  5, 58,  8,  0,  0, 18, 47, 56, 57, 58,  1, 15, 47, 58,\n",
      "        47, 64, 43, 52, 10,  0, 24, 43, 58,  1, 59, 57,  1, 49, 47, 50, 50,  1,\n",
      "        46, 47, 51,  6,  1, 39, 52, 42,  1, 61, 43,  5, 50, 50,  1, 46, 39, 60,\n",
      "        43,  1, 41, 53, 56, 52,  1, 39, 58,  1, 53, 59, 56,  1, 53, 61, 52,  1,\n",
      "        54, 56, 47, 41, 43,  8,  0, 21, 57,  5, 58,  1, 39,  1, 60, 43, 56, 42,\n",
      "        47, 41, 58, 12,  0,  0, 13, 50, 50, 10,  0, 26, 53,  1, 51, 53, 56, 43,\n",
      "         1, 58, 39, 50, 49, 47, 52, 45,  1, 53, 52,  5, 58, 11,  1, 50, 43, 58,\n",
      "         1, 47, 58,  1, 40, 43,  1, 42, 53, 52, 43, 10,  1, 39, 61, 39, 63,  6,\n",
      "         1, 39, 61, 39, 63,  2,  0,  0, 31, 43, 41, 53, 52, 42,  1, 15, 47, 58,\n",
      "        47, 64, 43, 52, 10,  0, 27, 52, 43,  1, 61, 53, 56, 42,  6,  1, 45, 53,\n",
      "        53, 42,  1, 41, 47, 58, 47, 64, 43, 52, 57,  8,  0,  0, 18, 47, 56, 57,\n",
      "        58,  1, 15, 47, 58, 47, 64, 43, 52, 10,  0, 35, 43,  1, 39, 56, 43,  1,\n",
      "        39, 41, 41, 53, 59, 52, 58, 43, 42,  1, 54, 53, 53, 56,  1, 41, 47, 58,\n",
      "        47, 64, 43, 52, 57,  6,  1, 58, 46, 43,  1, 54, 39, 58, 56, 47, 41, 47,\n",
      "        39, 52, 57,  1, 45, 53, 53, 42,  8,  0, 35, 46, 39, 58,  1, 39, 59, 58,\n",
      "        46, 53, 56, 47, 58, 63,  1, 57, 59, 56, 44, 43, 47, 58, 57,  1, 53, 52,\n",
      "         1, 61, 53, 59, 50, 42,  1, 56, 43, 50, 47, 43, 60, 43,  1, 59, 57, 10,\n",
      "         1, 47, 44,  1, 58, 46, 43, 63,  0, 61, 53, 59, 50, 42,  1, 63, 47, 43,\n",
      "        50, 42,  1, 59, 57,  1, 40, 59, 58,  1, 58, 46, 43,  1, 57, 59, 54, 43,\n",
      "        56, 44, 50, 59, 47, 58, 63,  6,  1, 61, 46, 47, 50, 43,  1, 47, 58,  1,\n",
      "        61, 43, 56, 43,  0, 61, 46, 53, 50, 43, 57, 53, 51, 43,  6,  1, 61, 43,\n",
      "         1, 51, 47, 45, 46, 58,  1, 45, 59, 43, 57, 57,  1, 58, 46, 43, 63,  1,\n",
      "        56, 43, 50, 47, 43, 60, 43, 42,  1, 59, 57,  1, 46, 59, 51, 39, 52, 43,\n",
      "        50, 63, 11,  0, 40, 59, 58,  1, 58, 46, 43, 63,  1, 58, 46, 47, 52, 49,\n",
      "         1, 61, 43,  1, 39, 56, 43,  1, 58, 53, 53,  1, 42, 43, 39, 56, 10,  1,\n",
      "        58, 46, 43,  1, 50, 43, 39, 52, 52, 43, 57, 57,  1, 58, 46, 39, 58,  0,\n",
      "        39, 44, 44, 50, 47, 41, 58, 57,  1, 59, 57,  6,  1, 58, 46, 43,  1, 53,\n",
      "        40, 48, 43, 41, 58,  1, 53, 44,  1, 53, 59, 56,  1, 51, 47, 57, 43, 56,\n",
      "        63,  6,  1, 47, 57,  1, 39, 57,  1, 39, 52,  0, 47, 52, 60, 43, 52, 58,\n",
      "        53, 56, 63,  1, 58, 53,  1, 54, 39, 56, 58, 47, 41, 59, 50, 39, 56, 47,\n",
      "        57, 43,  1, 58, 46, 43, 47, 56,  1, 39, 40, 59, 52, 42, 39, 52, 41, 43,\n",
      "        11,  1, 53, 59, 56,  0, 57, 59, 44, 44, 43, 56, 39, 52, 41, 43,  1, 47,\n",
      "        57,  1, 39,  1, 45, 39, 47, 52,  1, 58, 53,  1, 58, 46, 43, 51,  1, 24,\n",
      "        43, 58,  1, 59, 57,  1, 56, 43, 60, 43, 52, 45, 43,  1, 58, 46, 47, 57,\n",
      "         1, 61, 47, 58, 46,  0, 53, 59, 56,  1, 54, 47, 49, 43, 57,  6,  1, 43,\n",
      "        56, 43,  1, 61, 43,  1, 40, 43, 41, 53, 51, 43,  1, 56, 39, 49, 43, 57,\n",
      "        10,  1, 44, 53, 56,  1, 58, 46, 43,  1, 45, 53, 42, 57,  1, 49, 52, 53,\n",
      "        61,  1, 21,  0, 57, 54, 43, 39, 49,  1, 58, 46, 47, 57,  1, 47, 52,  1,\n",
      "        46, 59, 52, 45, 43, 56,  1, 44, 53, 56,  1, 40, 56, 43, 39, 42,  6,  1,\n",
      "        52, 53, 58,  1, 47, 52,  1, 58, 46, 47, 56, 57, 58,  1, 44, 53, 56,  1,\n",
      "        56, 43, 60, 43, 52, 45, 43,  8,  0,  0])\n"
     ]
    }
   ],
   "source": [
    "import torch\n",
    "data = torch.tensor(encode(text), dtype=torch.long)\n",
    "print(data.shape, data.dtype)\n",
    "print(data[:1000])"
   ]
  },
  {
   "cell_type": "code",
   "execution_count": 9,
   "id": "13046160",
   "metadata": {},
   "outputs": [],
   "source": [
    "# For not to overfit i.e., exact memorization\n",
    "n = int(0.9*len(data))\n",
    "train_data = data[:n]\n",
    "val_data = data[n:]"
   ]
  },
  {
   "cell_type": "code",
   "execution_count": 10,
   "id": "3734eae0",
   "metadata": {},
   "outputs": [],
   "source": [
    "block_size = 8\n",
    "# We can't train the entire dataset at a time because of computational reasons\n",
    "# So we train in chunks of this particular size"
   ]
  },
  {
   "cell_type": "code",
   "execution_count": 11,
   "id": "f60c62d9",
   "metadata": {},
   "outputs": [
    {
     "name": "stdout",
     "output_type": "stream",
     "text": [
      "when input is tensor([18]) the target: 47\n",
      "when input is tensor([18, 47]) the target: 56\n",
      "when input is tensor([18, 47, 56]) the target: 57\n",
      "when input is tensor([18, 47, 56, 57]) the target: 58\n",
      "when input is tensor([18, 47, 56, 57, 58]) the target: 1\n",
      "when input is tensor([18, 47, 56, 57, 58,  1]) the target: 15\n",
      "when input is tensor([18, 47, 56, 57, 58,  1, 15]) the target: 47\n",
      "when input is tensor([18, 47, 56, 57, 58,  1, 15, 47]) the target: 58\n"
     ]
    }
   ],
   "source": [
    "x = train_data[:block_size]\n",
    "y = train_data[1:block_size+1]\n",
    "for t in range(block_size):\n",
    "    context = x[:t+1]\n",
    "    target = y[t]\n",
    "    print(f\"when input is {context} the target: {target}\")\n",
    "# we are taken context_size from 1 to block_size for computational reasons and\n",
    "# for the transformer network to see the context throughout this range"
   ]
  },
  {
   "cell_type": "code",
   "execution_count": 12,
   "id": "261f63b2",
   "metadata": {},
   "outputs": [
    {
     "name": "stdout",
     "output_type": "stream",
     "text": [
      "inputs:\n",
      "torch.Size([4, 8])\n",
      "tensor([[24, 43, 58,  5, 57,  1, 46, 43],\n",
      "        [44, 53, 56,  1, 58, 46, 39, 58],\n",
      "        [52, 58,  1, 58, 46, 39, 58,  1],\n",
      "        [25, 17, 27, 10,  0, 21,  1, 54]])\n",
      "torch.Size([4, 8])\n",
      "tensor([[43, 58,  5, 57,  1, 46, 43, 39],\n",
      "        [53, 56,  1, 58, 46, 39, 58,  1],\n",
      "        [58,  1, 58, 46, 39, 58,  1, 46],\n",
      "        [17, 27, 10,  0, 21,  1, 54, 39]])\n",
      "----\n",
      "when input is [24] the target: 43\n",
      "when input is [24, 43] the target: 58\n",
      "when input is [24, 43, 58] the target: 5\n",
      "when input is [24, 43, 58, 5] the target: 57\n",
      "when input is [24, 43, 58, 5, 57] the target: 1\n",
      "when input is [24, 43, 58, 5, 57, 1] the target: 46\n",
      "when input is [24, 43, 58, 5, 57, 1, 46] the target: 43\n",
      "when input is [24, 43, 58, 5, 57, 1, 46, 43] the target: 39\n",
      "when input is [44] the target: 53\n",
      "when input is [44, 53] the target: 56\n",
      "when input is [44, 53, 56] the target: 1\n",
      "when input is [44, 53, 56, 1] the target: 58\n",
      "when input is [44, 53, 56, 1, 58] the target: 46\n",
      "when input is [44, 53, 56, 1, 58, 46] the target: 39\n",
      "when input is [44, 53, 56, 1, 58, 46, 39] the target: 58\n",
      "when input is [44, 53, 56, 1, 58, 46, 39, 58] the target: 1\n",
      "when input is [52] the target: 58\n",
      "when input is [52, 58] the target: 1\n",
      "when input is [52, 58, 1] the target: 58\n",
      "when input is [52, 58, 1, 58] the target: 46\n",
      "when input is [52, 58, 1, 58, 46] the target: 39\n",
      "when input is [52, 58, 1, 58, 46, 39] the target: 58\n",
      "when input is [52, 58, 1, 58, 46, 39, 58] the target: 1\n",
      "when input is [52, 58, 1, 58, 46, 39, 58, 1] the target: 46\n",
      "when input is [25] the target: 17\n",
      "when input is [25, 17] the target: 27\n",
      "when input is [25, 17, 27] the target: 10\n",
      "when input is [25, 17, 27, 10] the target: 0\n",
      "when input is [25, 17, 27, 10, 0] the target: 21\n",
      "when input is [25, 17, 27, 10, 0, 21] the target: 1\n",
      "when input is [25, 17, 27, 10, 0, 21, 1] the target: 54\n",
      "when input is [25, 17, 27, 10, 0, 21, 1, 54] the target: 39\n"
     ]
    }
   ],
   "source": [
    "# Now we introduce batches for parallel computation keeping the GPU busy\n",
    "torch.manual_seed(1337)\n",
    "batch_size = 4\n",
    "block_size = 8\n",
    "\n",
    "def get_batch(split):\n",
    "    data = train_data if split == 'train' else val_data\n",
    "    indx = torch.randint(len(data) - block_size, (batch_size,))\n",
    "    x = torch.stack([data[i:i+block_size] for i in indx])\n",
    "    y = torch.stack([data[i+1:i+block_size+1] for i in indx])\n",
    "    return x, y\n",
    "\n",
    "xb, yb = get_batch('train')\n",
    "print('inputs:')\n",
    "print(xb.shape)\n",
    "print(xb)\n",
    "print(yb.shape)\n",
    "print(yb)\n",
    "\n",
    "print('----')\n",
    "\n",
    "for b in range(batch_size):\n",
    "    for t in range(block_size):\n",
    "        context = xb[b, :t+1]\n",
    "        target = yb[b, t]\n",
    "        print(f\"when input is {context.tolist()} the target: {target}\")"
   ]
  },
  {
   "cell_type": "code",
   "execution_count": 13,
   "id": "2b537bbf",
   "metadata": {},
   "outputs": [
    {
     "name": "stdout",
     "output_type": "stream",
     "text": [
      "tensor([[24, 43, 58,  5, 57,  1, 46, 43],\n",
      "        [44, 53, 56,  1, 58, 46, 39, 58],\n",
      "        [52, 58,  1, 58, 46, 39, 58,  1],\n",
      "        [25, 17, 27, 10,  0, 21,  1, 54]])\n"
     ]
    }
   ],
   "source": [
    "print(xb) #our input to the model"
   ]
  },
  {
   "cell_type": "code",
   "execution_count": 14,
   "id": "8274805e",
   "metadata": {},
   "outputs": [
    {
     "name": "stdout",
     "output_type": "stream",
     "text": [
      "torch.Size([32, 65])\n",
      "tensor(4.8786, grad_fn=<NllLossBackward0>)\n",
      "\n",
      "Sr?qP-QWktXoL&jLDJgOLVz'RIoDqHdhsV&vLLxatjscMpwLERSPyao.qfzs$Ys$zF-w,;eEkzxjgCKFChs!iWW.ObzDnxA Ms$3\n"
     ]
    }
   ],
   "source": [
    "import torch\n",
    "import torch.nn as nn\n",
    "from torch.nn import functional as F\n",
    "torch.manual_seed(1337)\n",
    "\n",
    "class BigramLanguageModel(nn.Module):\n",
    "    \n",
    "    def __init__(self, vocab_size):\n",
    "        super().__init__()\n",
    "        self.token_embedding_table = nn.Embedding(vocab_size, vocab_size)\n",
    "    \n",
    "    def forward(self, indx, targets=None):\n",
    "        \n",
    "        # indx and target are of shape (B, T)\n",
    "        logits = self.token_embedding_table(indx) # plucks out a row from the embedding table corresponding to the indx, it will be a vocab_size tensor\n",
    "        # (B, T, C) logits - scores for the next character in the sequence - this is just by seeing itself\n",
    "        if targets == None:\n",
    "            loss = None\n",
    "        else:\n",
    "            B, T, C = logits.shape\n",
    "            logits = logits.view(B*T, C)\n",
    "            targets = targets.view(B*T) # targets.view(-1)\n",
    "            loss = F.cross_entropy(logits, targets) # cross entropy expects the second argument to be the number of classes\n",
    "        # functional.cross_entropy means we don't have to create a module for it\n",
    "        return logits, loss\n",
    "     \n",
    "    def generate(self, indx, max_new_tokens):\n",
    "        \n",
    "        # indx is (B, T) array of indices in the current context\n",
    "        for _ in range(max_new_tokens):\n",
    "            # get the predictions\n",
    "            logits, loss = self(indx)\n",
    "            # take the last one because it is the actual next character\n",
    "            logits = logits[:, -1, :]\n",
    "            # softmax to get probabilities\n",
    "            probs = F.softmax(logits, dim=-1)\n",
    "            # sample from the distribution\n",
    "            indx_next = torch.multinomial(probs, num_samples=1) # (B, 1)\n",
    "            # append sampled index to get the running sequence\n",
    "            indx = torch.cat((indx, indx_next), dim=1)\n",
    "        return indx\n",
    "    \n",
    "m = BigramLanguageModel(vocab_size)\n",
    "logits, loss = m(xb, yb)\n",
    "print(logits.shape)\n",
    "print(loss)\n",
    "print(decode(m.generate(indx=torch.zeros((1, 1), dtype=torch.long), max_new_tokens=100)[0].tolist()))"
   ]
  },
  {
   "cell_type": "code",
   "execution_count": 15,
   "id": "1288846a",
   "metadata": {},
   "outputs": [],
   "source": [
    "# Let's train it now\n",
    "# PyTorch optimizer (instead of Stochastic gradient descent which we used before)\n",
    "optimizer = torch.optim.AdamW(m.parameters(), lr=1e-3)"
   ]
  },
  {
   "cell_type": "code",
   "execution_count": 16,
   "id": "d0b31025",
   "metadata": {},
   "outputs": [
    {
     "name": "stdout",
     "output_type": "stream",
     "text": [
      "4.704006195068359\n",
      "3.7031264305114746\n",
      "3.1371781826019287\n",
      "2.776794672012329\n",
      "2.5844571590423584\n",
      "2.5105180740356445\n",
      "2.531585931777954\n",
      "2.504757881164551\n",
      "2.4696717262268066\n",
      "2.4838879108428955\n"
     ]
    }
   ],
   "source": [
    "batch_size = 32\n",
    "for steps in range(10000):\n",
    "    xb, yb = get_batch('train')\n",
    "    \n",
    "    logits, loss = m(xb, yb)\n",
    "    optimizer.zero_grad(set_to_none=True)\n",
    "    loss.backward()\n",
    "    optimizer.step()\n",
    "    \n",
    "    if steps%1000==0:\n",
    "       print(loss.item())"
   ]
  },
  {
   "cell_type": "code",
   "execution_count": 17,
   "id": "343af834",
   "metadata": {},
   "outputs": [
    {
     "name": "stdout",
     "output_type": "stream",
     "text": [
      "\n",
      "Iyoteng h hasbe pave pirance\n",
      "Rie hicomyonthar's\n",
      "Plinseard ith henoure wounonthioneir thondy, y helti\n"
     ]
    }
   ],
   "source": [
    "print(decode(m.generate(indx=torch.zeros((1, 1), dtype=torch.long), max_new_tokens=100)[0].tolist()))"
   ]
  },
  {
   "cell_type": "markdown",
   "id": "48fcd0af",
   "metadata": {},
   "source": [
    "Mathematical tricks for calculation self-attention"
   ]
  },
  {
   "cell_type": "code",
   "execution_count": 58,
   "id": "6525744f",
   "metadata": {},
   "outputs": [
    {
     "data": {
      "text/plain": [
       "torch.Size([4, 8, 2])"
      ]
     },
     "execution_count": 58,
     "metadata": {},
     "output_type": "execute_result"
    }
   ],
   "source": [
    "torch.manual_seed(1337)\n",
    "B, T, C = 4, 8, 2\n",
    "x = torch.randn(B, T, C)\n",
    "x.shape\n",
    "\n",
    "# In self-attention the T tokens start talking to each other so that they can figure out what is in the context and make better predictions"
   ]
  },
  {
   "cell_type": "code",
   "execution_count": 59,
   "id": "e53afa7d",
   "metadata": {},
   "outputs": [],
   "source": [
    "# Naive - For now for self-attention we have to calculate the dependency of the current \n",
    "# character on all the previous characters in the context \n",
    "# We take average as the metric for now - it is extremely lossy - we have lost the spatial arrangement of the tokens\n",
    "\n",
    "xbow = torch.zeros((B, T, C))\n",
    "for b in range(B):\n",
    "    for t in range(T):\n",
    "        xprev = x[b, :t+1]\n",
    "        xbow[b, t] = torch.mean(xprev, 0)"
   ]
  },
  {
   "cell_type": "code",
   "execution_count": 11,
   "id": "5b27a58f",
   "metadata": {},
   "outputs": [
    {
     "data": {
      "text/plain": [
       "(tensor([[ 0.1808, -0.0700],\n",
       "         [-0.3596, -0.9152],\n",
       "         [ 0.6258,  0.0255],\n",
       "         [ 0.9545,  0.0643],\n",
       "         [ 0.3612,  1.1679],\n",
       "         [-1.3499, -0.5102],\n",
       "         [ 0.2360, -0.2398],\n",
       "         [-0.9211,  1.5433]]),\n",
       " tensor([[ 0.1808, -0.0700],\n",
       "         [-0.0894, -0.4926],\n",
       "         [ 0.1490, -0.3199],\n",
       "         [ 0.3504, -0.2238],\n",
       "         [ 0.3525,  0.0545],\n",
       "         [ 0.0688, -0.0396],\n",
       "         [ 0.0927, -0.0682],\n",
       "         [-0.0341,  0.1332]]))"
      ]
     },
     "execution_count": 11,
     "metadata": {},
     "output_type": "execute_result"
    }
   ],
   "source": [
    "x[0], xbow[0]"
   ]
  },
  {
   "cell_type": "code",
   "execution_count": 12,
   "id": "9aebc494",
   "metadata": {},
   "outputs": [
    {
     "data": {
      "text/plain": [
       "tensor([[1., 0., 0.],\n",
       "        [1., 1., 0.],\n",
       "        [1., 1., 1.]])"
      ]
     },
     "execution_count": 12,
     "metadata": {},
     "output_type": "execute_result"
    }
   ],
   "source": [
    "torch.tril(torch.ones(3, 3))"
   ]
  },
  {
   "cell_type": "code",
   "execution_count": 13,
   "id": "0d914317",
   "metadata": {},
   "outputs": [
    {
     "name": "stdout",
     "output_type": "stream",
     "text": [
      "tensor([[1.0000, 0.0000, 0.0000],\n",
      "        [0.5000, 0.5000, 0.0000],\n",
      "        [0.3333, 0.3333, 0.3333]])\n",
      "tensor([[2., 7.],\n",
      "        [6., 4.],\n",
      "        [6., 5.]])\n",
      "tensor([[2.0000, 7.0000],\n",
      "        [4.0000, 5.5000],\n",
      "        [4.6667, 5.3333]])\n"
     ]
    }
   ],
   "source": [
    "torch.manual_seed(42)\n",
    "a = torch.tril(torch.ones(3, 3))\n",
    "a = a/torch.sum(a, 1, keepdim=True)\n",
    "b = torch.randint(0, 10, (3, 2)).float()\n",
    "c = a @ b\n",
    "print(a)\n",
    "print(b)\n",
    "print(c)"
   ]
  },
  {
   "cell_type": "code",
   "execution_count": 47,
   "id": "2807f055",
   "metadata": {
    "scrolled": true
   },
   "outputs": [],
   "source": [
    "wei = torch.tril(torch.ones(T, T))\n",
    "wei = wei / wei.sum(1, keepdim=True)\n",
    "xbow2 = wei @ x # (T, T) by (B, T, C) => (B, T, T) by (B, T, C) => (T, T) by (T, C) for each batch\n",
    "# torch.allclose(xbow, xbow2, rtol=1e-04, atol=1e-08)"
   ]
  },
  {
   "cell_type": "code",
   "execution_count": 62,
   "id": "51a64328",
   "metadata": {},
   "outputs": [
    {
     "data": {
      "text/plain": [
       "True"
      ]
     },
     "execution_count": 62,
     "metadata": {},
     "output_type": "execute_result"
    }
   ],
   "source": [
    "# using Softmax\n",
    "tril = torch.tril(torch.ones(T, T))\n",
    "wei = torch.zeros((T, T))\n",
    "wei = wei.masked_fill(tril == 0, float('-inf')) \n",
    "# better method because it actually represents the contribution of a character towards the average\n",
    "wei = F.softmax(wei, dim=1)\n",
    "# print(wei)\n",
    "xbow3 = wei @ x\n",
    "torch.allclose(xbow, xbow2, rtol=1e-04, atol=1e-08)"
   ]
  },
  {
   "cell_type": "code",
   "execution_count": 65,
   "id": "be802fc5",
   "metadata": {},
   "outputs": [
    {
     "data": {
      "text/plain": [
       "torch.Size([4, 8, 16])"
      ]
     },
     "execution_count": 65,
     "metadata": {},
     "output_type": "execute_result"
    }
   ],
   "source": [
    "# Self-attention - a bit more general\n",
    "\n",
    "torch.manual_seed(1337)\n",
    "B, T, C = 4, 8, 32\n",
    "x = torch.randn(B, T, C)\n",
    "\n",
    "head_size = 16\n",
    "key = nn.Linear(C, head_size, bias=False) # how much it contributes to the other characters\n",
    "query = nn.Linear(C, head_size, bias=False) # how much it takes contribution from the other characters\n",
    "value = nn.Linear(C, head_size, bias=False) # value of the node actually taken for the characters\n",
    "k = key(x)\n",
    "q = query(x)\n",
    "wei = q @ k.transpose(-2, -1) # (B, T, 16) @ (B, 16, T)\n",
    "\n",
    "tril = torch.tril(torch.ones(T, T))\n",
    "# wei = torch.zeros((T, T))\n",
    "wei = wei.masked_fill(tril==0, float('-inf')) # removing this line makes this an encoder block\n",
    "wei = F.softmax(wei, dim=-1)\n",
    "\n",
    "v = value(x)\n",
    "out = wei @ v\n",
    "# out = wei @ x\n",
    "\n",
    "out.shape"
   ]
  },
  {
   "cell_type": "code",
   "execution_count": 18,
   "id": "e11b9004",
   "metadata": {},
   "outputs": [],
   "source": [
    "# Attention is communication - communicating accross context in a batch but no communication between batches\n",
    "# this does not have any spatial significance for which we should add positional encodings, this is unlike convolutional where there is significance of positions\n",
    "# In this case we are not taking the contributions of future characters, but we may need it in some cases like sentimental analysis in which case we do not -inf the later ones - this will be an encoder unlike the present case which is a decoder\n",
    "# Cross-attention uses keys, queries and values which come from whole separate blocks of x\n",
    "# scaling attention to unit varaince helps not to sharpen the graph of wei"
   ]
  },
  {
   "cell_type": "code",
   "execution_count": 71,
   "id": "1d7b4830",
   "metadata": {},
   "outputs": [],
   "source": [
    "k = torch.randn(B, T, head_size)\n",
    "q = torch.randn(B, T, head_size)\n",
    "wei = q @ k.transpose(-2, -1) # *head_size**-0.5"
   ]
  },
  {
   "cell_type": "code",
   "execution_count": 68,
   "id": "8c06f462",
   "metadata": {},
   "outputs": [
    {
     "data": {
      "text/plain": [
       "tensor(1.0449)"
      ]
     },
     "execution_count": 68,
     "metadata": {},
     "output_type": "execute_result"
    }
   ],
   "source": [
    "k.var()"
   ]
  },
  {
   "cell_type": "code",
   "execution_count": 69,
   "id": "dc649ccd",
   "metadata": {},
   "outputs": [
    {
     "data": {
      "text/plain": [
       "tensor(1.0700)"
      ]
     },
     "execution_count": 69,
     "metadata": {},
     "output_type": "execute_result"
    }
   ],
   "source": [
    "q.var()"
   ]
  },
  {
   "cell_type": "code",
   "execution_count": 70,
   "id": "663ca44c",
   "metadata": {},
   "outputs": [
    {
     "data": {
      "text/plain": [
       "tensor(17.4690)"
      ]
     },
     "execution_count": 70,
     "metadata": {},
     "output_type": "execute_result"
    }
   ],
   "source": [
    "wei.var()"
   ]
  },
  {
   "cell_type": "code",
   "execution_count": 72,
   "id": "2da3309e",
   "metadata": {},
   "outputs": [
    {
     "data": {
      "text/plain": [
       "tensor(0.9957)"
      ]
     },
     "execution_count": 72,
     "metadata": {},
     "output_type": "execute_result"
    }
   ],
   "source": [
    "wei.var()"
   ]
  },
  {
   "cell_type": "code",
   "execution_count": 73,
   "id": "30cfa59f",
   "metadata": {},
   "outputs": [
    {
     "data": {
      "text/plain": [
       "tensor([0.1925, 0.1426, 0.2351, 0.1426, 0.2872])"
      ]
     },
     "execution_count": 73,
     "metadata": {},
     "output_type": "execute_result"
    }
   ],
   "source": [
    "torch.softmax(torch.tensor([0.1, -0.2, 0.3, -0.2, 0.5]), dim=-1)"
   ]
  },
  {
   "cell_type": "code",
   "execution_count": 74,
   "id": "a3c08c7f",
   "metadata": {},
   "outputs": [
    {
     "data": {
      "text/plain": [
       "tensor([0.0326, 0.0030, 0.1615, 0.0030, 0.8000])"
      ]
     },
     "execution_count": 74,
     "metadata": {},
     "output_type": "execute_result"
    }
   ],
   "source": [
    "torch.softmax(torch.tensor([0.1, -0.2, 0.3, -0.2, 0.5])*8, dim=-1)"
   ]
  },
  {
   "cell_type": "code",
   "execution_count": 76,
   "id": "74e898af",
   "metadata": {},
   "outputs": [],
   "source": [
    "# all this is attention by dot product\n",
    "# another one is multi-head attention which is multiple heads of self-attention in parallel"
   ]
  },
  {
   "cell_type": "code",
   "execution_count": 2,
   "id": "5f16f7e4",
   "metadata": {},
   "outputs": [],
   "source": [
    "class LayerNorm: # mean and variance along row instead of along column as in batchnorm\n",
    "    \n",
    "    def __init__(self, dim, eps=1e-5, momentum=0.1):\n",
    "        self.eps = eps\n",
    "        self.gamma = torch.ones(dim)\n",
    "        self.beta = torch.zeros(dim)\n",
    "        \n",
    "    def __call__(self, x):\n",
    "        xmean = x.mean(1, keepdim=True)\n",
    "        xvar = x.var(1, keepdim=True)\n",
    "        xhat = (x-xmean)/torch.sqrt(xvar + self.eps)\n",
    "        self.out = self.gamma * xhat + self.beta\n",
    "        return self.out\n",
    "    \n",
    "    def parameters(self):\n",
    "        return [self.gamma, self.beta]"
   ]
  },
  {
   "cell_type": "code",
   "execution_count": 77,
   "id": "dff04216",
   "metadata": {},
   "outputs": [],
   "source": [
    "# We do pre-norm formulation with the Layer norm"
   ]
  },
  {
   "cell_type": "code",
   "execution_count": 78,
   "id": "b1683ea1",
   "metadata": {},
   "outputs": [],
   "source": [
    "# Decoder only transformer"
   ]
  },
  {
   "cell_type": "code",
   "execution_count": 80,
   "id": "48d2ff7d",
   "metadata": {},
   "outputs": [],
   "source": [
    "# Drop out layer which we can add right before the residual i.e., before the going back to the original network\n",
    "# It is a regularization technique\n",
    "\n",
    "# randomly drops out some neurons during training and because it drop outs randomly in each training it works like a ensemble of a set of subnetworks"
   ]
  },
  {
   "cell_type": "code",
   "execution_count": 81,
   "id": "9d3eb997",
   "metadata": {},
   "outputs": [],
   "source": [
    "# Used when we will scale up the model so that it does not overfit"
   ]
  },
  {
   "cell_type": "code",
   "execution_count": 82,
   "id": "0c2fb868",
   "metadata": {},
   "outputs": [],
   "source": [
    "# We did not implement the cross-attention in the network\n",
    "# The fact that it uses the triangular mask to mask the attention makes our network a decoder\n",
    "# We did not implement the encoder because our generation is unconditioned and we just generating based on the dataset we have"
   ]
  },
  {
   "cell_type": "code",
   "execution_count": 83,
   "id": "bc13ac23",
   "metadata": {},
   "outputs": [],
   "source": [
    "# Encoder is needed in cases like translation \n",
    "# encodes one language and decodes into another language"
   ]
  }
 ],
 "metadata": {
  "kernelspec": {
   "display_name": "Python 3 (ipykernel)",
   "language": "python",
   "name": "python3"
  },
  "language_info": {
   "codemirror_mode": {
    "name": "ipython",
    "version": 3
   },
   "file_extension": ".py",
   "mimetype": "text/x-python",
   "name": "python",
   "nbconvert_exporter": "python",
   "pygments_lexer": "ipython3",
   "version": "3.10.11"
  }
 },
 "nbformat": 4,
 "nbformat_minor": 5
}
