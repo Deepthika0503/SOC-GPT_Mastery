{
 "cells": [
  {
   "cell_type": "code",
   "execution_count": 3,
   "id": "50f920a9",
   "metadata": {},
   "outputs": [],
   "source": [
    "import torch\n",
    "import torch.nn.functional as F\n",
    "import matplotlib.pyplot as plt\n",
    "%matplotlib inline"
   ]
  },
  {
   "cell_type": "code",
   "execution_count": 4,
   "id": "2fd8af02",
   "metadata": {},
   "outputs": [],
   "source": [
    "# read all the words\n",
    "words = open('names.txt', 'r').read().splitlines()"
   ]
  },
  {
   "cell_type": "code",
   "execution_count": 3,
   "id": "cdef8266",
   "metadata": {},
   "outputs": [
    {
     "data": {
      "text/plain": [
       "32033"
      ]
     },
     "execution_count": 3,
     "metadata": {},
     "output_type": "execute_result"
    }
   ],
   "source": [
    "len(words)"
   ]
  },
  {
   "cell_type": "code",
   "execution_count": 6,
   "id": "49918f8c",
   "metadata": {},
   "outputs": [],
   "source": [
    "# build the vocabulary of characters and mappings to/from integers\n",
    "chars = sorted(list(set(''.join(words))))\n",
    "stoi = {s:i+1 for i, s in enumerate(chars)}\n",
    "stoi['.'] = 0\n",
    "itos = {i:s for s, i in stoi.items()}"
   ]
  },
  {
   "cell_type": "code",
   "execution_count": 7,
   "id": "0a1874c6",
   "metadata": {},
   "outputs": [],
   "source": [
    "# build the dataset\n",
    "\n",
    "block_size = 3 # context length : how many characters do we take to predict the next one?\n",
    "X, Y = [], []\n",
    "for w in words:\n",
    "#     print(w)\n",
    "    context = [0] * block_size\n",
    "    for ch in w + '.':\n",
    "        ix = stoi[ch]\n",
    "        X.append(context)\n",
    "        Y.append(ix)\n",
    "#         print(''.join(itos[i] for i in context), '--->', itos[ix])\n",
    "        context = context[1:] + [ix] # crop and append\n",
    "        \n",
    "X = torch.tensor(X)\n",
    "Y = torch.tensor(Y)"
   ]
  },
  {
   "cell_type": "code",
   "execution_count": 9,
   "id": "073f306c",
   "metadata": {},
   "outputs": [],
   "source": [
    "C = torch.randn((27, 2))"
   ]
  },
  {
   "cell_type": "code",
   "execution_count": 11,
   "id": "d68f0905",
   "metadata": {},
   "outputs": [
    {
     "data": {
      "text/plain": [
       "tensor([-0.3871,  1.8674])"
      ]
     },
     "execution_count": 11,
     "metadata": {},
     "output_type": "execute_result"
    }
   ],
   "source": [
    "C[5]"
   ]
  },
  {
   "cell_type": "code",
   "execution_count": 12,
   "id": "c8f5ff5d",
   "metadata": {},
   "outputs": [
    {
     "data": {
      "text/plain": [
       "tensor([-0.3871,  1.8674])"
      ]
     },
     "execution_count": 12,
     "metadata": {},
     "output_type": "execute_result"
    }
   ],
   "source": [
    "F.one_hot(torch.tensor(5), num_classes=27).float() @ C"
   ]
  },
  {
   "cell_type": "code",
   "execution_count": 13,
   "id": "86638dad",
   "metadata": {},
   "outputs": [
    {
     "data": {
      "text/plain": [
       "tensor([[-0.3871,  1.8674],\n",
       "        [-0.0157, -0.3189],\n",
       "        [ 1.0263, -2.0378]])"
      ]
     },
     "execution_count": 13,
     "metadata": {},
     "output_type": "execute_result"
    }
   ],
   "source": [
    "C[torch.tensor([5, 6, 7])]"
   ]
  },
  {
   "cell_type": "code",
   "execution_count": 14,
   "id": "d257ce4f",
   "metadata": {},
   "outputs": [
    {
     "data": {
      "text/plain": [
       "torch.Size([228146, 3, 2])"
      ]
     },
     "execution_count": 14,
     "metadata": {},
     "output_type": "execute_result"
    }
   ],
   "source": [
    "C[X].shape"
   ]
  },
  {
   "cell_type": "code",
   "execution_count": 15,
   "id": "26bb5ff7",
   "metadata": {},
   "outputs": [
    {
     "data": {
      "text/plain": [
       "tensor(1)"
      ]
     },
     "execution_count": 15,
     "metadata": {},
     "output_type": "execute_result"
    }
   ],
   "source": [
    "X[13,2]"
   ]
  },
  {
   "cell_type": "code",
   "execution_count": 16,
   "id": "25694adb",
   "metadata": {},
   "outputs": [
    {
     "data": {
      "text/plain": [
       "tensor([-0.3516, -0.1155])"
      ]
     },
     "execution_count": 16,
     "metadata": {},
     "output_type": "execute_result"
    }
   ],
   "source": [
    "C[X][13, 2]"
   ]
  },
  {
   "cell_type": "code",
   "execution_count": 17,
   "id": "ca351081",
   "metadata": {},
   "outputs": [
    {
     "data": {
      "text/plain": [
       "tensor([-0.3516, -0.1155])"
      ]
     },
     "execution_count": 17,
     "metadata": {},
     "output_type": "execute_result"
    }
   ],
   "source": [
    "C[1]"
   ]
  },
  {
   "cell_type": "code",
   "execution_count": 10,
   "id": "b7f774b2",
   "metadata": {},
   "outputs": [
    {
     "data": {
      "text/plain": [
       "torch.Size([228146, 3, 2])"
      ]
     },
     "execution_count": 10,
     "metadata": {},
     "output_type": "execute_result"
    }
   ],
   "source": [
    "emb = C[X]\n",
    "emb.shape"
   ]
  },
  {
   "cell_type": "code",
   "execution_count": 18,
   "id": "40292bb3",
   "metadata": {},
   "outputs": [],
   "source": [
    "W1 = torch.randn((6, 100))\n",
    "b1 = torch.randn(100)"
   ]
  },
  {
   "cell_type": "code",
   "execution_count": 21,
   "id": "8c5cb8e4",
   "metadata": {},
   "outputs": [
    {
     "data": {
      "text/plain": [
       "torch.Size([228146, 6])"
      ]
     },
     "execution_count": 21,
     "metadata": {},
     "output_type": "execute_result"
    }
   ],
   "source": [
    "torch.cat([emb[:, 0, :], emb[:, 1, :], emb[:, 2, :]], 1).shape"
   ]
  },
  {
   "cell_type": "code",
   "execution_count": 23,
   "id": "4daa3b0b",
   "metadata": {},
   "outputs": [
    {
     "data": {
      "text/plain": [
       "3"
      ]
     },
     "execution_count": 23,
     "metadata": {},
     "output_type": "execute_result"
    }
   ],
   "source": [
    "len(torch.unbind(emb, 1))"
   ]
  },
  {
   "cell_type": "code",
   "execution_count": 24,
   "id": "1209e4de",
   "metadata": {},
   "outputs": [
    {
     "data": {
      "text/plain": [
       "torch.Size([228146, 6])"
      ]
     },
     "execution_count": 24,
     "metadata": {},
     "output_type": "execute_result"
    }
   ],
   "source": [
    "torch.cat(torch.unbind(emb, 1), 1).shape"
   ]
  },
  {
   "cell_type": "code",
   "execution_count": 25,
   "id": "d2f07dad",
   "metadata": {},
   "outputs": [],
   "source": [
    "a = torch.arange(18)"
   ]
  },
  {
   "cell_type": "code",
   "execution_count": 26,
   "id": "cbd888f1",
   "metadata": {},
   "outputs": [
    {
     "data": {
      "text/plain": [
       "tensor([[ 0,  1,  2,  3,  4,  5,  6,  7,  8],\n",
       "        [ 9, 10, 11, 12, 13, 14, 15, 16, 17]])"
      ]
     },
     "execution_count": 26,
     "metadata": {},
     "output_type": "execute_result"
    }
   ],
   "source": [
    "a.view(2, 9)"
   ]
  },
  {
   "cell_type": "code",
   "execution_count": 27,
   "id": "7f427bb2",
   "metadata": {},
   "outputs": [
    {
     "data": {
      "text/plain": [
       "tensor([[[ 0,  1],\n",
       "         [ 2,  3],\n",
       "         [ 4,  5]],\n",
       "\n",
       "        [[ 6,  7],\n",
       "         [ 8,  9],\n",
       "         [10, 11]],\n",
       "\n",
       "        [[12, 13],\n",
       "         [14, 15],\n",
       "         [16, 17]]])"
      ]
     },
     "execution_count": 27,
     "metadata": {},
     "output_type": "execute_result"
    }
   ],
   "source": [
    "a.view(3, 3, 2)"
   ]
  },
  {
   "cell_type": "code",
   "execution_count": 30,
   "id": "839a4a60",
   "metadata": {},
   "outputs": [
    {
     "data": {
      "text/plain": [
       " 0\n",
       " 1\n",
       " 2\n",
       " 3\n",
       " 4\n",
       " 5\n",
       " 6\n",
       " 7\n",
       " 8\n",
       " 9\n",
       " 10\n",
       " 11\n",
       " 12\n",
       " 13\n",
       " 14\n",
       " 15\n",
       " 16\n",
       " 17\n",
       "[torch.storage.TypedStorage(dtype=torch.int64, device=cpu) of size 18]"
      ]
     },
     "execution_count": 30,
     "metadata": {},
     "output_type": "execute_result"
    }
   ],
   "source": [
    "a.storage()"
   ]
  },
  {
   "cell_type": "code",
   "execution_count": 36,
   "id": "e1d34d2c",
   "metadata": {},
   "outputs": [
    {
     "data": {
      "text/plain": [
       "tensor([[-0.6743, -1.7112, -0.6743, -1.7112, -0.6743, -1.7112],\n",
       "        [-0.6743, -1.7112, -0.6743, -1.7112, -0.3871,  1.8674],\n",
       "        [-0.6743, -1.7112, -0.3871,  1.8674,  2.6585,  0.2347],\n",
       "        ...,\n",
       "        [ 1.5698, -0.4588,  1.5698, -0.4588, -0.8130, -0.7326],\n",
       "        [ 1.5698, -0.4588, -0.8130, -0.7326,  1.5698, -0.4588],\n",
       "        [-0.8130, -0.7326,  1.5698, -0.4588, -0.7655, -0.0906]])"
      ]
     },
     "execution_count": 36,
     "metadata": {},
     "output_type": "execute_result"
    }
   ],
   "source": [
    "emb.view(emb.shape[0], 6)"
   ]
  },
  {
   "cell_type": "code",
   "execution_count": 38,
   "id": "338ef91e",
   "metadata": {},
   "outputs": [],
   "source": [
    "h = emb.view(emb.shape[0], 6) @ W1 + b1"
   ]
  },
  {
   "cell_type": "code",
   "execution_count": 39,
   "id": "398f9f88",
   "metadata": {},
   "outputs": [],
   "source": [
    "act = torch.tanh(h)"
   ]
  },
  {
   "cell_type": "code",
   "execution_count": 40,
   "id": "c9d3a5d1",
   "metadata": {},
   "outputs": [
    {
     "data": {
      "text/plain": [
       "torch.Size([228146, 100])"
      ]
     },
     "execution_count": 40,
     "metadata": {},
     "output_type": "execute_result"
    }
   ],
   "source": [
    "act.shape"
   ]
  },
  {
   "cell_type": "code",
   "execution_count": 41,
   "id": "34acd6d0",
   "metadata": {},
   "outputs": [],
   "source": [
    "W2 = torch.randn((100, 27))\n",
    "b2 = torch.randn(27)"
   ]
  },
  {
   "cell_type": "code",
   "execution_count": 42,
   "id": "d39e7897",
   "metadata": {},
   "outputs": [],
   "source": [
    "logits = act @ W2 + b2"
   ]
  },
  {
   "cell_type": "code",
   "execution_count": 43,
   "id": "6cbb46ed",
   "metadata": {},
   "outputs": [],
   "source": [
    "counts = logits.exp()"
   ]
  },
  {
   "cell_type": "code",
   "execution_count": 44,
   "id": "c6278210",
   "metadata": {},
   "outputs": [],
   "source": [
    "probs = counts/counts.sum(1, keepdims=True)"
   ]
  },
  {
   "cell_type": "code",
   "execution_count": 45,
   "id": "9e5eaa85",
   "metadata": {},
   "outputs": [
    {
     "data": {
      "text/plain": [
       "tensor(1.)"
      ]
     },
     "execution_count": 45,
     "metadata": {},
     "output_type": "execute_result"
    }
   ],
   "source": [
    "probs[0].sum()"
   ]
  },
  {
   "cell_type": "code",
   "execution_count": 46,
   "id": "e8047937",
   "metadata": {},
   "outputs": [
    {
     "data": {
      "text/plain": [
       "torch.Size([228146, 27])"
      ]
     },
     "execution_count": 46,
     "metadata": {},
     "output_type": "execute_result"
    }
   ],
   "source": [
    "probs.shape"
   ]
  },
  {
   "cell_type": "code",
   "execution_count": 47,
   "id": "4e197a35",
   "metadata": {},
   "outputs": [
    {
     "data": {
      "text/plain": [
       "tensor([ 5, 13, 13,  ..., 26, 24,  0])"
      ]
     },
     "execution_count": 47,
     "metadata": {},
     "output_type": "execute_result"
    }
   ],
   "source": [
    "Y"
   ]
  },
  {
   "cell_type": "code",
   "execution_count": 49,
   "id": "d57bae74",
   "metadata": {},
   "outputs": [
    {
     "data": {
      "text/plain": [
       "tensor(18.8273)"
      ]
     },
     "execution_count": 49,
     "metadata": {},
     "output_type": "execute_result"
    }
   ],
   "source": [
    "loss = -probs[torch.arange(probs.shape[0]), Y].log().mean()\n",
    "loss"
   ]
  },
  {
   "cell_type": "code",
   "execution_count": 50,
   "id": "22f5b028",
   "metadata": {},
   "outputs": [],
   "source": [
    "# ----------------- # ------------------ # --------------- #"
   ]
  },
  {
   "cell_type": "code",
   "execution_count": 171,
   "id": "4f39a6de",
   "metadata": {},
   "outputs": [
    {
     "data": {
      "text/plain": [
       "(torch.Size([228146, 3]), torch.Size([228146]))"
      ]
     },
     "execution_count": 171,
     "metadata": {},
     "output_type": "execute_result"
    }
   ],
   "source": [
    "X.shape, Y.shape"
   ]
  },
  {
   "cell_type": "code",
   "execution_count": 12,
   "id": "5e537fd8",
   "metadata": {},
   "outputs": [],
   "source": [
    "g = torch.Generator().manual_seed(2147483647)\n",
    "C = torch.randn((27, 2), generator=g)\n",
    "W1 = torch.randn((6, 100), generator=g)\n",
    "b1 = torch.randn(100, generator=g)\n",
    "W2 = torch.randn((100, 27), generator=g)\n",
    "b2 = torch.randn(27, generator=g)\n",
    "parameters = [C, W1, b1, W2, b2]"
   ]
  },
  {
   "cell_type": "code",
   "execution_count": 166,
   "id": "6e3f9625",
   "metadata": {},
   "outputs": [
    {
     "data": {
      "text/plain": [
       "3481"
      ]
     },
     "execution_count": 166,
     "metadata": {},
     "output_type": "execute_result"
    }
   ],
   "source": [
    "sum(p.nelement() for p in parameters) # total number of parameters"
   ]
  },
  {
   "cell_type": "code",
   "execution_count": 15,
   "id": "6ba5bf16",
   "metadata": {},
   "outputs": [
    {
     "name": "stdout",
     "output_type": "stream",
     "text": [
      "torch.Size([228146, 27])\n"
     ]
    },
    {
     "data": {
      "text/plain": [
       "tensor(19.5052)"
      ]
     },
     "execution_count": 15,
     "metadata": {},
     "output_type": "execute_result"
    }
   ],
   "source": [
    "emb = C[X]\n",
    "h = torch.tanh(emb.view(-1, 6) @ W1 + b1)\n",
    "logits = h @ W2 + b2\n",
    "print(logits.shape)\n",
    "counts = logits.exp()\n",
    "probs = counts/counts.sum(1, keepdims=True)\n",
    "loss = -probs[torch.arange(emb.shape[0]), Y].log().mean()\n",
    "loss"
   ]
  },
  {
   "cell_type": "code",
   "execution_count": 16,
   "id": "710de1bf",
   "metadata": {},
   "outputs": [
    {
     "name": "stdout",
     "output_type": "stream",
     "text": [
      "tensor([[  2.0191,  -0.5013,  13.3706,  ...,  10.2469,   2.8311,   9.2402],\n",
      "        [ -6.9784,   0.8382,   9.4671,  ...,   5.7656,   4.1368,  12.4966],\n",
      "        [  4.1821,  -3.6009,  17.0966,  ...,   6.5224, -10.4342,  -1.5205],\n",
      "        ...,\n",
      "        [ -5.8335,   0.0515,   0.8027,  ..., -10.3916,  -2.5706,  -1.6157],\n",
      "        [ -1.6369,  -7.4065,   8.9311,  ...,  -5.8148,  -9.0827,   0.6466],\n",
      "        [  1.0493, -15.2429,  -3.2347,  ..., -12.1904,   8.7967, -14.6360]]) torch.Size([228146])\n"
     ]
    },
    {
     "data": {
      "text/plain": [
       "tensor(19.5052)"
      ]
     },
     "execution_count": 16,
     "metadata": {},
     "output_type": "execute_result"
    }
   ],
   "source": [
    "print(logits, Y.shape)\n",
    "F.cross_entropy(logits, Y)"
   ]
  },
  {
   "cell_type": "code",
   "execution_count": 19,
   "id": "e3112442",
   "metadata": {},
   "outputs": [
    {
     "data": {
      "text/plain": [
       "tensor([0., 0., 0., nan])"
      ]
     },
     "execution_count": 19,
     "metadata": {},
     "output_type": "execute_result"
    }
   ],
   "source": [
    "# Why cross_entropy\n",
    "logits = torch.tensor([-5, 0, 3, 100])\n",
    "# logits = torch.tensor([-5, 0, 3, 5]) -5 gives same probabilities\n",
    "counts = logits.exp()\n",
    "probs = counts/counts.sum()\n",
    "probs\n",
    "# while cross_entropy substracts max and calculates probabilities"
   ]
  },
  {
   "cell_type": "code",
   "execution_count": 173,
   "id": "143cc7d9",
   "metadata": {},
   "outputs": [],
   "source": [
    "for p in parameters:\n",
    "    p.requires_grad = True"
   ]
  },
  {
   "cell_type": "code",
   "execution_count": 76,
   "id": "1bff9f50",
   "metadata": {},
   "outputs": [
    {
     "name": "stdout",
     "output_type": "stream",
     "text": [
      "19.505229949951172\n",
      "17.08448600769043\n",
      "15.776532173156738\n",
      "14.833342552185059\n",
      "14.002605438232422\n",
      "13.253262519836426\n",
      "12.57991886138916\n",
      "11.983101844787598\n",
      "11.47049331665039\n",
      "11.05185604095459\n"
     ]
    }
   ],
   "source": [
    "for _ in range(10):\n",
    "    # forward pass\n",
    "    emb = C[X] \n",
    "    h = torch.tanh(emb.view(-1, 6) @ W1 + b1)\n",
    "    logits = h @ W2 + b2\n",
    "    loss = F.cross_entropy(logits, Y)\n",
    "    print(loss.item())\n",
    "    \n",
    "    # backward pass\n",
    "    for p in parameters:\n",
    "        p.grad = None\n",
    "    loss.backward()\n",
    "    for p in parameters:\n",
    "        p.data += -0.1 * p.grad"
   ]
  },
  {
   "cell_type": "code",
   "execution_count": 77,
   "id": "965436b5",
   "metadata": {},
   "outputs": [],
   "source": [
    "# mini-batch for faster gradient"
   ]
  },
  {
   "cell_type": "code",
   "execution_count": 79,
   "id": "cac6deb2",
   "metadata": {},
   "outputs": [
    {
     "data": {
      "text/plain": [
       "tensor([223336, 197346, 220247,  27306, 179499, 112008, 175218, 207391, 157927,\n",
       "         62791,  94096, 149740, 145502, 171052,  83620,  56669, 190875,  17847,\n",
       "         80554, 139505,  77398, 225745,  97626,  72771, 198486, 171476, 170395,\n",
       "         57322, 226872,  28996,  11109,  68723])"
      ]
     },
     "execution_count": 79,
     "metadata": {},
     "output_type": "execute_result"
    }
   ],
   "source": [
    "torch.randint(0, X.shape[0], (32, ))"
   ]
  },
  {
   "cell_type": "code",
   "execution_count": 146,
   "id": "482ab5c6",
   "metadata": {},
   "outputs": [
    {
     "name": "stdout",
     "output_type": "stream",
     "text": [
      "12.151634216308594\n",
      "9.988239288330078\n",
      "10.178512573242188\n",
      "8.861993789672852\n",
      "8.114988327026367\n",
      "9.486382484436035\n",
      "8.582104682922363\n",
      "9.174412727355957\n",
      "8.842362403869629\n",
      "8.330551147460938\n",
      "9.479576110839844\n",
      "8.948204040527344\n",
      "8.963754653930664\n",
      "7.032684326171875\n",
      "9.357946395874023\n",
      "7.642951965332031\n",
      "6.882598876953125\n",
      "5.745176315307617\n",
      "7.059329986572266\n",
      "6.313843250274658\n",
      "5.705232620239258\n",
      "6.585782527923584\n",
      "5.2520318031311035\n",
      "9.080984115600586\n",
      "5.427019119262695\n",
      "7.121240139007568\n",
      "7.147617340087891\n",
      "7.23388147354126\n",
      "6.133619785308838\n",
      "6.582336902618408\n",
      "5.933420181274414\n",
      "6.4430060386657715\n",
      "5.018683910369873\n",
      "7.022917747497559\n",
      "6.36554479598999\n",
      "5.887740135192871\n",
      "4.092906951904297\n",
      "5.304605960845947\n",
      "4.803378582000732\n",
      "5.980230808258057\n",
      "4.714079856872559\n",
      "5.302881240844727\n",
      "6.967769145965576\n",
      "5.2848358154296875\n",
      "5.275982856750488\n",
      "5.57643985748291\n",
      "4.479170799255371\n",
      "6.032659530639648\n",
      "5.2018961906433105\n",
      "4.308910846710205\n",
      "4.095961570739746\n",
      "4.827592372894287\n",
      "4.967979907989502\n",
      "3.805757999420166\n",
      "5.90901517868042\n",
      "3.770613670349121\n",
      "3.4621026515960693\n",
      "4.736307621002197\n",
      "4.930263519287109\n",
      "5.420122146606445\n",
      "5.005824565887451\n",
      "4.618670463562012\n",
      "4.7149977684021\n",
      "4.7628960609436035\n",
      "4.369589805603027\n",
      "4.3875732421875\n",
      "5.671473979949951\n",
      "3.413609027862549\n",
      "4.510614395141602\n",
      "4.613481521606445\n",
      "3.8839495182037354\n",
      "4.474155426025391\n",
      "4.201370716094971\n",
      "3.5029189586639404\n",
      "3.8816206455230713\n",
      "4.432364463806152\n",
      "4.984520435333252\n",
      "4.155054092407227\n",
      "4.959747791290283\n",
      "3.9709384441375732\n",
      "3.505420446395874\n",
      "4.175809383392334\n",
      "4.117555141448975\n",
      "4.41792106628418\n",
      "4.201406478881836\n",
      "3.5851755142211914\n",
      "3.1779208183288574\n",
      "4.042837619781494\n",
      "3.540405035018921\n",
      "2.8872697353363037\n",
      "4.148383617401123\n",
      "3.924281358718872\n",
      "4.138391017913818\n",
      "4.657009601593018\n",
      "3.8914945125579834\n",
      "4.092047214508057\n",
      "3.8477518558502197\n",
      "3.908191204071045\n",
      "3.3314764499664307\n",
      "3.1083691120147705\n"
     ]
    }
   ],
   "source": [
    "for _ in range(100):\n",
    "    \n",
    "    # mini-batch construction\n",
    "    indx = torch.randint(0, X.shape[0], (32,))\n",
    "#     print(indx)\n",
    "    # forward pass\n",
    "    emb = C[X[indx]] \n",
    "    h = torch.tanh(emb.view(-1, 6) @ W1 + b1)\n",
    "    logits = h @ W2 + b2\n",
    "    loss = F.cross_entropy(logits, Y[indx])\n",
    "    print(loss.item())\n",
    "    \n",
    "    # backward pass\n",
    "    for p in parameters:\n",
    "        p.grad = None\n",
    "    loss.backward()\n",
    "    for p in parameters:\n",
    "        p.data += -0.1 * p.grad"
   ]
  },
  {
   "cell_type": "code",
   "execution_count": 168,
   "id": "02eae830",
   "metadata": {},
   "outputs": [],
   "source": [
    "# learning rate adjustment\n",
    "\n",
    "lre = torch.linspace(-3, 0, 1000)\n",
    "lrs = 10**lre"
   ]
  },
  {
   "cell_type": "code",
   "execution_count": 169,
   "id": "9601e609",
   "metadata": {},
   "outputs": [],
   "source": [
    "lri = []\n",
    "lossi = []\n",
    "\n",
    "for i in range(1000):\n",
    "    \n",
    "    # mini-batch construction\n",
    "    indx = torch.randint(0, X.shape[0], (32,))\n",
    "#     print(indx)\n",
    "    # forward pass\n",
    "    emb = C[X[indx]] \n",
    "    h = torch.tanh(emb.view(-1, 6) @ W1 + b1)\n",
    "    logits = h @ W2 + b2\n",
    "    loss = F.cross_entropy(logits, Y[indx])\n",
    "#     print(loss.item())\n",
    "    \n",
    "    # backward pass\n",
    "    for p in parameters:\n",
    "        p.grad = None\n",
    "    loss.backward()\n",
    "    \n",
    "    lr = lrs[i]\n",
    "    for p in parameters:\n",
    "        p.data += -lr * p.grad\n",
    "        \n",
    "    lri.append(lre[i])\n",
    "    lossi.append(loss.item())"
   ]
  },
  {
   "cell_type": "code",
   "execution_count": 170,
   "id": "4a84f733",
   "metadata": {},
   "outputs": [
    {
     "data": {
      "text/plain": [
       "[<matplotlib.lines.Line2D at 0x2b451ccf400>]"
      ]
     },
     "execution_count": 170,
     "metadata": {},
     "output_type": "execute_result"
    },
    {
     "data": {
      "image/png": "[encoded data removed]",
      "text/plain": [
       "<Figure size 640x480 with 1 Axes>"
      ]
     },
     "metadata": {},
     "output_type": "display_data"
    }
   ],
   "source": [
    "plt.plot(lri, lossi)"
   ]
  },
  {
   "cell_type": "code",
   "execution_count": 202,
   "id": "8f506e13",
   "metadata": {},
   "outputs": [],
   "source": [
    "# lri = []\n",
    "# lossi = []\n",
    "\n",
    "for i in range(10000):\n",
    "    \n",
    "    # mini-batch construction\n",
    "    indx = torch.randint(0, X.shape[0], (32,))\n",
    "#     print(indx)\n",
    "    # forward pass\n",
    "    emb = C[X[indx]] \n",
    "    h = torch.tanh(emb.view(-1, 6) @ W1 + b1)\n",
    "    logits = h @ W2 + b2\n",
    "    loss = F.cross_entropy(logits, Y[indx])\n",
    "#     print(loss.item())\n",
    "    \n",
    "    # backward pass\n",
    "    for p in parameters:\n",
    "        p.grad = None\n",
    "    loss.backward()\n",
    "    \n",
    "#     lr = lrs[i]\n",
    "    lr = 0.01\n",
    "    for p in parameters:\n",
    "        p.data += -lr * p.grad\n",
    "        \n",
    "#     lri.append(lre[i])\n",
    "#     lossi.append(loss.item())"
   ]
  },
  {
   "cell_type": "code",
   "execution_count": 203,
   "id": "00f4e270",
   "metadata": {},
   "outputs": [
    {
     "data": {
      "text/plain": [
       "tensor(2.4039, grad_fn=<NllLossBackward0>)"
      ]
     },
     "execution_count": 203,
     "metadata": {},
     "output_type": "execute_result"
    }
   ],
   "source": [
    "emb = C[X]\n",
    "h = torch.tanh(emb.view(-1, 6) @ W1 + b1)\n",
    "logits = h @ W2 + b2\n",
    "loss = F.cross_entropy(logits, Y)\n",
    "loss"
   ]
  },
  {
   "cell_type": "code",
   "execution_count": 204,
   "id": "e17dd675",
   "metadata": {},
   "outputs": [
    {
     "name": "stdout",
     "output_type": "stream",
     "text": [
      "torch.Size([182625, 3]) torch.Size([182625])\n",
      "torch.Size([22655, 3]) torch.Size([22655])\n",
      "torch.Size([22866, 3]) torch.Size([22866])\n"
     ]
    }
   ],
   "source": [
    "# training split, dev/validation split, test split\n",
    "# 80%, 10%, 10%\n",
    "\n",
    "def build_dataset(words):\n",
    "    block_size = 3\n",
    "    X, Y = [], []\n",
    "    \n",
    "    for w in words:\n",
    "        context = [0] * block_size\n",
    "        for ch in w + '.':\n",
    "            indx = stoi[ch]\n",
    "            X.append(context)\n",
    "            Y.append(indx)\n",
    "            context = context[1:] + [indx]\n",
    "            \n",
    "    X = torch.tensor(X)\n",
    "    Y = torch.tensor(Y)\n",
    "    print(X.shape, Y.shape)\n",
    "    return X, Y\n",
    "\n",
    "import random\n",
    "random.seed(42)\n",
    "random.shuffle(words)\n",
    "n1 = int(0.8*len(words))\n",
    "n2 = int(0.9*len(words))\n",
    "\n",
    "Xtr, Ytr = build_dataset(words[:n1])\n",
    "Xdev, Ydev = build_dataset(words[n1:n2])\n",
    "Xte, Yte = build_dataset(words[n2:])"
   ]
  },
  {
   "cell_type": "code",
   "execution_count": 205,
   "id": "9ff98681",
   "metadata": {},
   "outputs": [],
   "source": [
    "g = torch.Generator().manual_seed(2147483647)\n",
    "C = torch.randn((27, 2), generator=g)\n",
    "W1 = torch.randn((6, 100), generator=g)\n",
    "b1 = torch.randn(100, generator=g)\n",
    "W2 = torch.randn((100, 27), generator=g)\n",
    "b2 = torch.randn(27, generator=g)\n",
    "parameters = [C, W1, b1, W2, b2]"
   ]
  },
  {
   "cell_type": "code",
   "execution_count": 206,
   "id": "0a70b1e9",
   "metadata": {},
   "outputs": [],
   "source": [
    "for p in parameters:\n",
    "    p.requires_grad = True"
   ]
  },
  {
   "cell_type": "code",
   "execution_count": 214,
   "id": "c35853d1",
   "metadata": {},
   "outputs": [],
   "source": [
    "# lri = []\n",
    "# lossi = []\n",
    "\n",
    "for i in range(10000):\n",
    "    \n",
    "    # mini-batch construction\n",
    "    indx = torch.randint(0, Xtr.shape[0], (32,))\n",
    "#     print(indx)\n",
    "    # forward pass\n",
    "    emb = C[Xtr[indx]] \n",
    "    h = torch.tanh(emb.view(-1, 6) @ W1 + b1)\n",
    "    logits = h @ W2 + b2\n",
    "    loss = F.cross_entropy(logits, Ytr[indx])\n",
    "#     print(loss.item())\n",
    "    \n",
    "    # backward pass\n",
    "    for p in parameters:\n",
    "        p.grad = None\n",
    "    loss.backward()\n",
    "    \n",
    "#     lr = lrs[i]\n",
    "    lr = 0.1\n",
    "    for p in parameters:\n",
    "        p.data += -lr * p.grad\n",
    "        \n",
    "#     lri.append(lre[i])\n",
    "#     lossi.append(loss.item())"
   ]
  },
  {
   "cell_type": "code",
   "execution_count": 215,
   "id": "f541de6d",
   "metadata": {},
   "outputs": [
    {
     "data": {
      "text/plain": [
       "tensor(2.3877, grad_fn=<NllLossBackward0>)"
      ]
     },
     "execution_count": 215,
     "metadata": {},
     "output_type": "execute_result"
    }
   ],
   "source": [
    "emb = C[Xtr]\n",
    "h = torch.tanh(emb.view(-1, 6) @ W1 + b1)\n",
    "logits = h @ W2 + b2\n",
    "loss = F.cross_entropy(logits, Ytr)\n",
    "loss"
   ]
  },
  {
   "cell_type": "code",
   "execution_count": 216,
   "id": "74f2e78a",
   "metadata": {},
   "outputs": [
    {
     "data": {
      "text/plain": [
       "tensor(2.3895, grad_fn=<NllLossBackward0>)"
      ]
     },
     "execution_count": 216,
     "metadata": {},
     "output_type": "execute_result"
    }
   ],
   "source": [
    "emb = C[Xdev]\n",
    "h = torch.tanh(emb.view(-1, 6) @ W1 + b1)\n",
    "logits = h @ W2 + b2\n",
    "loss = F.cross_entropy(logits, Ydev)\n",
    "loss"
   ]
  },
  {
   "cell_type": "code",
   "execution_count": 221,
   "id": "2fb86ad9",
   "metadata": {},
   "outputs": [],
   "source": [
    "# larger size of hidden layer\n",
    "g = torch.Generator().manual_seed(2147483647)\n",
    "C = torch.randn((27, 2), generator=g)\n",
    "W1 = torch.randn((6, 300), generator=g)\n",
    "b1 = torch.randn(300, generator=g)\n",
    "W2 = torch.randn((300, 27), generator=g)\n",
    "b2 = torch.randn(27, generator=g)\n",
    "parameters = [C, W1, b1, W2, b2]"
   ]
  },
  {
   "cell_type": "code",
   "execution_count": 222,
   "id": "9cec701b",
   "metadata": {},
   "outputs": [],
   "source": [
    "for p in parameters:\n",
    "    p.requires_grad = True"
   ]
  },
  {
   "cell_type": "code",
   "execution_count": 236,
   "id": "ac6dd79a",
   "metadata": {},
   "outputs": [],
   "source": [
    "# lri = []\n",
    "lossi = []\n",
    "stepi = []\n",
    "\n",
    "for i in range(30000):\n",
    "    \n",
    "    # mini-batch construction\n",
    "    indx = torch.randint(0, Xtr.shape[0], (32,))\n",
    "#     print(indx)\n",
    "    # forward pass\n",
    "    emb = C[Xtr[indx]] \n",
    "    h = torch.tanh(emb.view(-1, 6) @ W1 + b1)\n",
    "    logits = h @ W2 + b2\n",
    "    loss = F.cross_entropy(logits, Ytr[indx])\n",
    "#     print(loss.item())\n",
    "    \n",
    "    # backward pass\n",
    "    for p in parameters:\n",
    "        p.grad = None\n",
    "    loss.backward()\n",
    "    \n",
    "#     lr = lrs[i]\n",
    "    lr = 0.01\n",
    "    for p in parameters:\n",
    "        p.data += -lr * p.grad\n",
    "        \n",
    "    stepi.append(i)\n",
    "    lossi.append(loss.item())"
   ]
  },
  {
   "cell_type": "code",
   "execution_count": 224,
   "id": "e9fcb136",
   "metadata": {},
   "outputs": [
    {
     "data": {
      "text/plain": [
       "[<matplotlib.lines.Line2D at 0x2b4550cad40>]"
      ]
     },
     "execution_count": 224,
     "metadata": {},
     "output_type": "execute_result"
    },
    {
     "data": {
      "image/png": "[encoded data removed]",
      "text/plain": [
       "<Figure size 640x480 with 1 Axes>"
      ]
     },
     "metadata": {},
     "output_type": "display_data"
    }
   ],
   "source": [
    "plt.plot(stepi, lossi)"
   ]
  },
  {
   "cell_type": "code",
   "execution_count": 237,
   "id": "6f5271d1",
   "metadata": {},
   "outputs": [
    {
     "data": {
      "text/plain": [
       "tensor(2.2670, grad_fn=<NllLossBackward0>)"
      ]
     },
     "execution_count": 237,
     "metadata": {},
     "output_type": "execute_result"
    }
   ],
   "source": [
    "emb = C[Xtr]\n",
    "h = torch.tanh(emb.view(-1, 6) @ W1 + b1)\n",
    "logits = h @ W2 + b2\n",
    "loss = F.cross_entropy(logits, Ytr)\n",
    "loss"
   ]
  },
  {
   "cell_type": "code",
   "execution_count": 238,
   "id": "578ea324",
   "metadata": {},
   "outputs": [
    {
     "data": {
      "text/plain": [
       "tensor(2.2767, grad_fn=<NllLossBackward0>)"
      ]
     },
     "execution_count": 238,
     "metadata": {},
     "output_type": "execute_result"
    }
   ],
   "source": [
    "emb = C[Xdev]\n",
    "h = torch.tanh(emb.view(-1, 6) @ W1 + b1)\n",
    "logits = h @ W2 + b2\n",
    "loss = F.cross_entropy(logits, Ydev)\n",
    "loss"
   ]
  },
  {
   "cell_type": "code",
   "execution_count": 239,
   "id": "1e973722",
   "metadata": {},
   "outputs": [
    {
     "data": {
      "image/png": "[encoded data removed]",
      "text/plain": [
       "<Figure size 800x800 with 1 Axes>"
      ]
     },
     "metadata": {},
     "output_type": "display_data"
    }
   ],
   "source": [
    "# visualising embeddings\n",
    "plt.figure(figsize=(8, 8))\n",
    "plt.scatter(C[:,0].data, C[:, 1].data, s=200)\n",
    "for i in range(C.shape[0]):\n",
    "    plt.text(C[i, 0].item(), C[i, 1].item(), itos[i], ha=\"center\", va=\"center\", color='white')\n",
    "plt.grid('minor')"
   ]
  },
  {
   "cell_type": "code",
   "execution_count": 248,
   "id": "1afeeb8f",
   "metadata": {},
   "outputs": [],
   "source": [
    "# larger embeddin size\n",
    "# larger size of hidden layer\n",
    "g = torch.Generator().manual_seed(2147483647)\n",
    "C = torch.randn((27, 10), generator=g)\n",
    "W1 = torch.randn((30, 200), generator=g)\n",
    "b1 = torch.randn(200, generator=g)\n",
    "W2 = torch.randn((200, 27), generator=g)\n",
    "b2 = torch.randn(27, generator=g)\n",
    "parameters = [C, W1, b1, W2, b2]"
   ]
  },
  {
   "cell_type": "code",
   "execution_count": 249,
   "id": "bb6726d1",
   "metadata": {},
   "outputs": [],
   "source": [
    "for p in parameters:\n",
    "    p.requires_grad = True"
   ]
  },
  {
   "cell_type": "code",
   "execution_count": 250,
   "id": "cf26a4bc",
   "metadata": {},
   "outputs": [],
   "source": [
    "lossi = []\n",
    "stepi = []"
   ]
  },
  {
   "cell_type": "code",
   "execution_count": 258,
   "id": "43f7e235",
   "metadata": {},
   "outputs": [],
   "source": [
    "# lri = []\n",
    "for i in range(50000):\n",
    "    \n",
    "    # mini-batch construction\n",
    "    indx = torch.randint(0, Xtr.shape[0], (32,))\n",
    "#     print(indx)\n",
    "    # forward pass\n",
    "    emb = C[Xtr[indx]] \n",
    "    h = torch.tanh(emb.view(-1, 30) @ W1 + b1)\n",
    "    logits = h @ W2 + b2\n",
    "    loss = F.cross_entropy(logits, Ytr[indx])\n",
    "#     print(loss.item())\n",
    "    \n",
    "    # backward pass\n",
    "    for p in parameters:\n",
    "        p.grad = None\n",
    "    loss.backward()\n",
    "    \n",
    "#     lr = lrs[i]\n",
    "    lr = 0.01\n",
    "    for p in parameters:\n",
    "        p.data += -lr * p.grad\n",
    "        \n",
    "    stepi.append(i)\n",
    "    lossi.append(loss.log10().item())"
   ]
  },
  {
   "cell_type": "code",
   "execution_count": 252,
   "id": "0db955ae",
   "metadata": {},
   "outputs": [
    {
     "data": {
      "text/plain": [
       "[<matplotlib.lines.Line2D at 0x2b455120c40>]"
      ]
     },
     "execution_count": 252,
     "metadata": {},
     "output_type": "execute_result"
    },
    {
     "data": {
      "image/png": "[encoded data removed]",
      "text/plain": [
       "<Figure size 640x480 with 1 Axes>"
      ]
     },
     "metadata": {},
     "output_type": "display_data"
    }
   ],
   "source": [
    "plt.plot(stepi, lossi)"
   ]
  },
  {
   "cell_type": "code",
   "execution_count": 259,
   "id": "28e280b3",
   "metadata": {},
   "outputs": [
    {
     "data": {
      "text/plain": [
       "tensor(2.1640, grad_fn=<NllLossBackward0>)"
      ]
     },
     "execution_count": 259,
     "metadata": {},
     "output_type": "execute_result"
    }
   ],
   "source": [
    "emb = C[Xtr]\n",
    "h = torch.tanh(emb.view(-1, 30) @ W1 + b1)\n",
    "logits = h @ W2 + b2\n",
    "loss = F.cross_entropy(logits, Ytr)\n",
    "loss"
   ]
  },
  {
   "cell_type": "code",
   "execution_count": 260,
   "id": "85aca877",
   "metadata": {},
   "outputs": [
    {
     "data": {
      "text/plain": [
       "tensor(2.1922, grad_fn=<NllLossBackward0>)"
      ]
     },
     "execution_count": 260,
     "metadata": {},
     "output_type": "execute_result"
    }
   ],
   "source": [
    "emb = C[Xdev]\n",
    "h = torch.tanh(emb.view(-1, 30) @ W1 + b1)\n",
    "logits = h @ W2 + b2\n",
    "loss = F.cross_entropy(logits, Ydev)\n",
    "loss"
   ]
  },
  {
   "cell_type": "code",
   "execution_count": 264,
   "id": "82be4615",
   "metadata": {},
   "outputs": [
    {
     "name": "stdout",
     "output_type": "stream",
     "text": [
      "eria.\n",
      "kayah.\n",
      "see.\n",
      "med.\n",
      "ryah.\n",
      "reverston.\n",
      "rarge.\n",
      "deredielin.\n",
      "shy.\n",
      "jen.\n",
      "eden.\n",
      "eson.\n",
      "arleitziorona.\n",
      "cayshubergiairiel.\n",
      "kin.\n",
      "reney.\n",
      "panthuom.\n",
      "usz.\n",
      "geda.\n",
      "jamari.\n",
      "elsyria.\n",
      "maston.\n",
      "mahil.\n",
      "salyansyn.\n",
      "zakelle.\n",
      "ren.\n",
      "crestiveahel.\n",
      "pordin.\n",
      "kyloe.\n",
      "bhirphilah.\n"
     ]
    }
   ],
   "source": [
    "# sampling from the model\n",
    "\n",
    "g = torch.Generator().manual_seed(2147483647+10)\n",
    "\n",
    "for _ in range(30):\n",
    "    out = []\n",
    "    context = [0] * block_size\n",
    "    while True:\n",
    "        emb = C[torch.tensor([context])]\n",
    "        h = torch.tanh(emb.view(1, -1) @ W1 + b1)\n",
    "        logits = h @ W2 + b2\n",
    "        probs = F.softmax(logits, dim=1)\n",
    "        indx = torch.multinomial(probs, num_samples=1, generator=g).item()\n",
    "        context = context[1:] + [indx]\n",
    "        out.append(indx)\n",
    "        if indx == 0:\n",
    "            break\n",
    "    \n",
    "    print(''.join(itos[i] for i in out))"
   ]
  },
  {
   "cell_type": "code",
   "execution_count": null,
   "id": "2a854de5",
   "metadata": {},
   "outputs": [],
   "source": []
  }
 ],
 "metadata": {
  "kernelspec": {
   "display_name": "Python 3 (ipykernel)",
   "language": "python",
   "name": "python3"
  },
  "language_info": {
   "codemirror_mode": {
    "name": "ipython",
    "version": 3
   },
   "file_extension": ".py",
   "mimetype": "text/x-python",
   "name": "python",
   "nbconvert_exporter": "python",
   "pygments_lexer": "ipython3",
   "version": "3.10.11"
  }
 },
 "nbformat": 4,
 "nbformat_minor": 5
}
